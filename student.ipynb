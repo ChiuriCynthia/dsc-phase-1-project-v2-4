{
 "cells": [
  {
   "cell_type": "markdown",
   "metadata": {},
   "source": [
    "## Final Project Submission\n",
    "\n",
    "Please fill out:\n",
    "* Student name: CYNTHIA WANJIRA CHIURI\n",
    "* Student pace: Part time\n",
    "* Scheduled project review date/time: 16th April 2023\n",
    "* Instructor name: Noah Kandie \n",
    "* Blog post URL: https://datascience942.wordpress.com/2023/04/16/using-exploratory-data-analysis-to-generate-insights-for-a-technology-business/\n"
   ]
  },
  {
   "cell_type": "markdown",
   "metadata": {},
   "source": [
    "## BUSINESS UNDERSTANDING"
   ]
  },
  {
   "cell_type": "code",
   "execution_count": null,
   "metadata": {},
   "outputs": [],
   "source": [
    "#Business Statement\n",
    "Microsoft sees all the big companies creating original video content and they want to get in on the fun.\n",
    "They have decided to create a new movie studio, but they don’t know anything about creating movies.\n",
    "You are charged with exploring what types of films are currently doing the best at the box office.\n",
    "You must then translate those findings into actionable insights,\n",
    "that the head of Microsoft's new movie studio can use to help decide what type of films to create."
   ]
  },
  {
   "cell_type": "markdown",
   "metadata": {},
   "source": [
    "## DATA PROCESSING"
   ]
  },
  {
   "cell_type": "markdown",
   "metadata": {},
   "source": [
    "1.Loading data "
   ]
  },
  {
   "cell_type": "code",
   "execution_count": 1,
   "metadata": {},
   "outputs": [],
   "source": [
    "# Importing the necessary libraries\n",
    "\n",
    "import pandas as pd\n",
    "import numpy as np \n",
    "import matplotlib.pyplot as plt\n",
    "import seaborn as sb\n",
    "import sqlite3\n",
    "\n",
    "%matplotlib inline"
   ]
  },
  {
   "cell_type": "code",
   "execution_count": 2,
   "metadata": {},
   "outputs": [],
   "source": [
    "#Loading the gross csv\n",
    "gross = pd.read_csv('data/bom.movie_gross.csv', index_col = 0)"
   ]
  },
  {
   "cell_type": "code",
   "execution_count": 3,
   "metadata": {},
   "outputs": [],
   "source": [
    "#Loading the movie csv\n",
    "movie = pd.read_csv('data/tmdb.movies.csv' , index_col = 0)"
   ]
  },
  {
   "cell_type": "code",
   "execution_count": 4,
   "metadata": {},
   "outputs": [],
   "source": [
    "#Loading the budgets csv\n",
    "budgets = pd.read_csv('data/tn.movie_budgets.csv' , index_col = 0)"
   ]
  },
  {
   "cell_type": "code",
   "execution_count": 5,
   "metadata": {},
   "outputs": [],
   "source": [
    "conn = sqlite3.connect('data/im.db')\n",
    "\n",
    "basics = pd.read_sql_query('SELECT* from movie_basics', conn)\n",
    "ratings = pd.read_sql_query('SELECT* from movie_ratings', conn)\n",
    "\n",
    "basics.to_csv('movie_basics.csv', index=False)\n",
    "ratings.to_csv('movie_ratings.csv', index=False)\n",
    "\n",
    "conn.close()"
   ]
  },
  {
   "cell_type": "markdown",
   "metadata": {},
   "source": [
    "2. Inspecting the data - Movie_basics"
   ]
  },
  {
   "cell_type": "code",
   "execution_count": 7,
   "metadata": {},
   "outputs": [
    {
     "data": {
      "text/html": [
       "<div>\n",
       "<style scoped>\n",
       "    .dataframe tbody tr th:only-of-type {\n",
       "        vertical-align: middle;\n",
       "    }\n",
       "\n",
       "    .dataframe tbody tr th {\n",
       "        vertical-align: top;\n",
       "    }\n",
       "\n",
       "    .dataframe thead th {\n",
       "        text-align: right;\n",
       "    }\n",
       "</style>\n",
       "<table border=\"1\" class=\"dataframe\">\n",
       "  <thead>\n",
       "    <tr style=\"text-align: right;\">\n",
       "      <th></th>\n",
       "      <th>movie_id</th>\n",
       "      <th>primary_title</th>\n",
       "      <th>original_title</th>\n",
       "      <th>start_year</th>\n",
       "      <th>runtime_minutes</th>\n",
       "      <th>genres</th>\n",
       "    </tr>\n",
       "  </thead>\n",
       "  <tbody>\n",
       "    <tr>\n",
       "      <th>0</th>\n",
       "      <td>tt0063540</td>\n",
       "      <td>Sunghursh</td>\n",
       "      <td>Sunghursh</td>\n",
       "      <td>2013</td>\n",
       "      <td>175.0</td>\n",
       "      <td>Action,Crime,Drama</td>\n",
       "    </tr>\n",
       "    <tr>\n",
       "      <th>1</th>\n",
       "      <td>tt0066787</td>\n",
       "      <td>One Day Before the Rainy Season</td>\n",
       "      <td>Ashad Ka Ek Din</td>\n",
       "      <td>2019</td>\n",
       "      <td>114.0</td>\n",
       "      <td>Biography,Drama</td>\n",
       "    </tr>\n",
       "    <tr>\n",
       "      <th>2</th>\n",
       "      <td>tt0069049</td>\n",
       "      <td>The Other Side of the Wind</td>\n",
       "      <td>The Other Side of the Wind</td>\n",
       "      <td>2018</td>\n",
       "      <td>122.0</td>\n",
       "      <td>Drama</td>\n",
       "    </tr>\n",
       "    <tr>\n",
       "      <th>3</th>\n",
       "      <td>tt0069204</td>\n",
       "      <td>Sabse Bada Sukh</td>\n",
       "      <td>Sabse Bada Sukh</td>\n",
       "      <td>2018</td>\n",
       "      <td>NaN</td>\n",
       "      <td>Comedy,Drama</td>\n",
       "    </tr>\n",
       "    <tr>\n",
       "      <th>4</th>\n",
       "      <td>tt0100275</td>\n",
       "      <td>The Wandering Soap Opera</td>\n",
       "      <td>La Telenovela Errante</td>\n",
       "      <td>2017</td>\n",
       "      <td>80.0</td>\n",
       "      <td>Comedy,Drama,Fantasy</td>\n",
       "    </tr>\n",
       "  </tbody>\n",
       "</table>\n",
       "</div>"
      ],
      "text/plain": [
       "    movie_id                    primary_title              original_title  \\\n",
       "0  tt0063540                        Sunghursh                   Sunghursh   \n",
       "1  tt0066787  One Day Before the Rainy Season             Ashad Ka Ek Din   \n",
       "2  tt0069049       The Other Side of the Wind  The Other Side of the Wind   \n",
       "3  tt0069204                  Sabse Bada Sukh             Sabse Bada Sukh   \n",
       "4  tt0100275         The Wandering Soap Opera       La Telenovela Errante   \n",
       "\n",
       "   start_year  runtime_minutes                genres  \n",
       "0        2013            175.0    Action,Crime,Drama  \n",
       "1        2019            114.0       Biography,Drama  \n",
       "2        2018            122.0                 Drama  \n",
       "3        2018              NaN          Comedy,Drama  \n",
       "4        2017             80.0  Comedy,Drama,Fantasy  "
      ]
     },
     "execution_count": 7,
     "metadata": {},
     "output_type": "execute_result"
    }
   ],
   "source": [
    "#To display the first few rows\n",
    "basics.head()"
   ]
  },
  {
   "cell_type": "code",
   "execution_count": 8,
   "metadata": {},
   "outputs": [
    {
     "data": {
      "text/html": [
       "<div>\n",
       "<style scoped>\n",
       "    .dataframe tbody tr th:only-of-type {\n",
       "        vertical-align: middle;\n",
       "    }\n",
       "\n",
       "    .dataframe tbody tr th {\n",
       "        vertical-align: top;\n",
       "    }\n",
       "\n",
       "    .dataframe thead th {\n",
       "        text-align: right;\n",
       "    }\n",
       "</style>\n",
       "<table border=\"1\" class=\"dataframe\">\n",
       "  <thead>\n",
       "    <tr style=\"text-align: right;\">\n",
       "      <th></th>\n",
       "      <th>movie_id</th>\n",
       "      <th>primary_title</th>\n",
       "      <th>original_title</th>\n",
       "      <th>start_year</th>\n",
       "      <th>runtime_minutes</th>\n",
       "      <th>genres</th>\n",
       "    </tr>\n",
       "  </thead>\n",
       "  <tbody>\n",
       "    <tr>\n",
       "      <th>146139</th>\n",
       "      <td>tt9916538</td>\n",
       "      <td>Kuambil Lagi Hatiku</td>\n",
       "      <td>Kuambil Lagi Hatiku</td>\n",
       "      <td>2019</td>\n",
       "      <td>123.0</td>\n",
       "      <td>Drama</td>\n",
       "    </tr>\n",
       "    <tr>\n",
       "      <th>146140</th>\n",
       "      <td>tt9916622</td>\n",
       "      <td>Rodolpho Teóphilo - O Legado de um Pioneiro</td>\n",
       "      <td>Rodolpho Teóphilo - O Legado de um Pioneiro</td>\n",
       "      <td>2015</td>\n",
       "      <td>NaN</td>\n",
       "      <td>Documentary</td>\n",
       "    </tr>\n",
       "    <tr>\n",
       "      <th>146141</th>\n",
       "      <td>tt9916706</td>\n",
       "      <td>Dankyavar Danka</td>\n",
       "      <td>Dankyavar Danka</td>\n",
       "      <td>2013</td>\n",
       "      <td>NaN</td>\n",
       "      <td>Comedy</td>\n",
       "    </tr>\n",
       "    <tr>\n",
       "      <th>146142</th>\n",
       "      <td>tt9916730</td>\n",
       "      <td>6 Gunn</td>\n",
       "      <td>6 Gunn</td>\n",
       "      <td>2017</td>\n",
       "      <td>116.0</td>\n",
       "      <td>None</td>\n",
       "    </tr>\n",
       "    <tr>\n",
       "      <th>146143</th>\n",
       "      <td>tt9916754</td>\n",
       "      <td>Chico Albuquerque - Revelações</td>\n",
       "      <td>Chico Albuquerque - Revelações</td>\n",
       "      <td>2013</td>\n",
       "      <td>NaN</td>\n",
       "      <td>Documentary</td>\n",
       "    </tr>\n",
       "  </tbody>\n",
       "</table>\n",
       "</div>"
      ],
      "text/plain": [
       "         movie_id                                primary_title  \\\n",
       "146139  tt9916538                          Kuambil Lagi Hatiku   \n",
       "146140  tt9916622  Rodolpho Teóphilo - O Legado de um Pioneiro   \n",
       "146141  tt9916706                              Dankyavar Danka   \n",
       "146142  tt9916730                                       6 Gunn   \n",
       "146143  tt9916754               Chico Albuquerque - Revelações   \n",
       "\n",
       "                                     original_title  start_year  \\\n",
       "146139                          Kuambil Lagi Hatiku        2019   \n",
       "146140  Rodolpho Teóphilo - O Legado de um Pioneiro        2015   \n",
       "146141                              Dankyavar Danka        2013   \n",
       "146142                                       6 Gunn        2017   \n",
       "146143               Chico Albuquerque - Revelações        2013   \n",
       "\n",
       "        runtime_minutes       genres  \n",
       "146139            123.0        Drama  \n",
       "146140              NaN  Documentary  \n",
       "146141              NaN       Comedy  \n",
       "146142            116.0         None  \n",
       "146143              NaN  Documentary  "
      ]
     },
     "execution_count": 8,
     "metadata": {},
     "output_type": "execute_result"
    }
   ],
   "source": [
    "#To display the last few rows\n",
    "basics.tail()"
   ]
  },
  {
   "cell_type": "code",
   "execution_count": 9,
   "metadata": {},
   "outputs": [
    {
     "name": "stdout",
     "output_type": "stream",
     "text": [
      "<class 'pandas.core.frame.DataFrame'>\n",
      "RangeIndex: 146144 entries, 0 to 146143\n",
      "Data columns (total 6 columns):\n",
      " #   Column           Non-Null Count   Dtype  \n",
      "---  ------           --------------   -----  \n",
      " 0   movie_id         146144 non-null  object \n",
      " 1   primary_title    146144 non-null  object \n",
      " 2   original_title   146123 non-null  object \n",
      " 3   start_year       146144 non-null  int64  \n",
      " 4   runtime_minutes  114405 non-null  float64\n",
      " 5   genres           140736 non-null  object \n",
      "dtypes: float64(1), int64(1), object(4)\n",
      "memory usage: 6.7+ MB\n"
     ]
    }
   ],
   "source": [
    "#To get the information summary on the table\n",
    "# we see some of the columns have null entries, data types of the columns.\n",
    "\n",
    "basics.info()"
   ]
  },
  {
   "cell_type": "code",
   "execution_count": 10,
   "metadata": {},
   "outputs": [
    {
     "data": {
      "text/plain": [
       "(146144, 6)"
      ]
     },
     "execution_count": 10,
     "metadata": {},
     "output_type": "execute_result"
    }
   ],
   "source": [
    "#Check the number of rows and columns\n",
    "basics.shape\n",
    "\n",
    "#There are 6 columns and 146144 rows"
   ]
  },
  {
   "cell_type": "code",
   "execution_count": 11,
   "metadata": {},
   "outputs": [
    {
     "data": {
      "text/html": [
       "<div>\n",
       "<style scoped>\n",
       "    .dataframe tbody tr th:only-of-type {\n",
       "        vertical-align: middle;\n",
       "    }\n",
       "\n",
       "    .dataframe tbody tr th {\n",
       "        vertical-align: top;\n",
       "    }\n",
       "\n",
       "    .dataframe thead th {\n",
       "        text-align: right;\n",
       "    }\n",
       "</style>\n",
       "<table border=\"1\" class=\"dataframe\">\n",
       "  <thead>\n",
       "    <tr style=\"text-align: right;\">\n",
       "      <th></th>\n",
       "      <th>start_year</th>\n",
       "      <th>runtime_minutes</th>\n",
       "    </tr>\n",
       "  </thead>\n",
       "  <tbody>\n",
       "    <tr>\n",
       "      <th>count</th>\n",
       "      <td>146144.000000</td>\n",
       "      <td>114405.000000</td>\n",
       "    </tr>\n",
       "    <tr>\n",
       "      <th>mean</th>\n",
       "      <td>2014.621798</td>\n",
       "      <td>86.187247</td>\n",
       "    </tr>\n",
       "    <tr>\n",
       "      <th>std</th>\n",
       "      <td>2.733583</td>\n",
       "      <td>166.360590</td>\n",
       "    </tr>\n",
       "    <tr>\n",
       "      <th>min</th>\n",
       "      <td>2010.000000</td>\n",
       "      <td>1.000000</td>\n",
       "    </tr>\n",
       "    <tr>\n",
       "      <th>25%</th>\n",
       "      <td>2012.000000</td>\n",
       "      <td>70.000000</td>\n",
       "    </tr>\n",
       "    <tr>\n",
       "      <th>50%</th>\n",
       "      <td>2015.000000</td>\n",
       "      <td>87.000000</td>\n",
       "    </tr>\n",
       "    <tr>\n",
       "      <th>75%</th>\n",
       "      <td>2017.000000</td>\n",
       "      <td>99.000000</td>\n",
       "    </tr>\n",
       "    <tr>\n",
       "      <th>max</th>\n",
       "      <td>2115.000000</td>\n",
       "      <td>51420.000000</td>\n",
       "    </tr>\n",
       "  </tbody>\n",
       "</table>\n",
       "</div>"
      ],
      "text/plain": [
       "          start_year  runtime_minutes\n",
       "count  146144.000000    114405.000000\n",
       "mean     2014.621798        86.187247\n",
       "std         2.733583       166.360590\n",
       "min      2010.000000         1.000000\n",
       "25%      2012.000000        70.000000\n",
       "50%      2015.000000        87.000000\n",
       "75%      2017.000000        99.000000\n",
       "max      2115.000000     51420.000000"
      ]
     },
     "execution_count": 11,
     "metadata": {},
     "output_type": "execute_result"
    }
   ],
   "source": [
    "#Gettings a summary of the numeric columns\n",
    "basics.describe()"
   ]
  },
  {
   "cell_type": "code",
   "execution_count": 12,
   "metadata": {},
   "outputs": [
    {
     "data": {
      "text/plain": [
       "movie_id               0\n",
       "primary_title          0\n",
       "original_title        21\n",
       "start_year             0\n",
       "runtime_minutes    31739\n",
       "genres              5408\n",
       "dtype: int64"
      ]
     },
     "execution_count": 12,
     "metadata": {},
     "output_type": "execute_result"
    }
   ],
   "source": [
    "#To check null values\n",
    "basics.isna().sum()"
   ]
  },
  {
   "cell_type": "code",
   "execution_count": 13,
   "metadata": {},
   "outputs": [
    {
     "data": {
      "text/plain": [
       "0"
      ]
     },
     "execution_count": 13,
     "metadata": {},
     "output_type": "execute_result"
    }
   ],
   "source": [
    "# To check Duplicates\n",
    "basics.duplicated().sum()"
   ]
  },
  {
   "cell_type": "code",
   "execution_count": 14,
   "metadata": {},
   "outputs": [],
   "source": [
    "# Making a copy of the dataframe to use it avoid making permanent changes to the original\n",
    "basics_copy = basics.copy()"
   ]
  },
  {
   "cell_type": "markdown",
   "metadata": {},
   "source": [
    "3.Inspecting data - Move Rating"
   ]
  },
  {
   "cell_type": "code",
   "execution_count": 15,
   "metadata": {},
   "outputs": [
    {
     "data": {
      "text/html": [
       "<div>\n",
       "<style scoped>\n",
       "    .dataframe tbody tr th:only-of-type {\n",
       "        vertical-align: middle;\n",
       "    }\n",
       "\n",
       "    .dataframe tbody tr th {\n",
       "        vertical-align: top;\n",
       "    }\n",
       "\n",
       "    .dataframe thead th {\n",
       "        text-align: right;\n",
       "    }\n",
       "</style>\n",
       "<table border=\"1\" class=\"dataframe\">\n",
       "  <thead>\n",
       "    <tr style=\"text-align: right;\">\n",
       "      <th></th>\n",
       "      <th>movie_id</th>\n",
       "      <th>averagerating</th>\n",
       "      <th>numvotes</th>\n",
       "    </tr>\n",
       "  </thead>\n",
       "  <tbody>\n",
       "    <tr>\n",
       "      <th>0</th>\n",
       "      <td>tt10356526</td>\n",
       "      <td>8.3</td>\n",
       "      <td>31</td>\n",
       "    </tr>\n",
       "    <tr>\n",
       "      <th>1</th>\n",
       "      <td>tt10384606</td>\n",
       "      <td>8.9</td>\n",
       "      <td>559</td>\n",
       "    </tr>\n",
       "    <tr>\n",
       "      <th>2</th>\n",
       "      <td>tt1042974</td>\n",
       "      <td>6.4</td>\n",
       "      <td>20</td>\n",
       "    </tr>\n",
       "    <tr>\n",
       "      <th>3</th>\n",
       "      <td>tt1043726</td>\n",
       "      <td>4.2</td>\n",
       "      <td>50352</td>\n",
       "    </tr>\n",
       "    <tr>\n",
       "      <th>4</th>\n",
       "      <td>tt1060240</td>\n",
       "      <td>6.5</td>\n",
       "      <td>21</td>\n",
       "    </tr>\n",
       "  </tbody>\n",
       "</table>\n",
       "</div>"
      ],
      "text/plain": [
       "     movie_id  averagerating  numvotes\n",
       "0  tt10356526            8.3        31\n",
       "1  tt10384606            8.9       559\n",
       "2   tt1042974            6.4        20\n",
       "3   tt1043726            4.2     50352\n",
       "4   tt1060240            6.5        21"
      ]
     },
     "execution_count": 15,
     "metadata": {},
     "output_type": "execute_result"
    }
   ],
   "source": [
    "#To display the first few rows\n",
    "ratings.head()"
   ]
  },
  {
   "cell_type": "code",
   "execution_count": 16,
   "metadata": {},
   "outputs": [
    {
     "data": {
      "text/html": [
       "<div>\n",
       "<style scoped>\n",
       "    .dataframe tbody tr th:only-of-type {\n",
       "        vertical-align: middle;\n",
       "    }\n",
       "\n",
       "    .dataframe tbody tr th {\n",
       "        vertical-align: top;\n",
       "    }\n",
       "\n",
       "    .dataframe thead th {\n",
       "        text-align: right;\n",
       "    }\n",
       "</style>\n",
       "<table border=\"1\" class=\"dataframe\">\n",
       "  <thead>\n",
       "    <tr style=\"text-align: right;\">\n",
       "      <th></th>\n",
       "      <th>movie_id</th>\n",
       "      <th>averagerating</th>\n",
       "      <th>numvotes</th>\n",
       "    </tr>\n",
       "  </thead>\n",
       "  <tbody>\n",
       "    <tr>\n",
       "      <th>73851</th>\n",
       "      <td>tt9805820</td>\n",
       "      <td>8.1</td>\n",
       "      <td>25</td>\n",
       "    </tr>\n",
       "    <tr>\n",
       "      <th>73852</th>\n",
       "      <td>tt9844256</td>\n",
       "      <td>7.5</td>\n",
       "      <td>24</td>\n",
       "    </tr>\n",
       "    <tr>\n",
       "      <th>73853</th>\n",
       "      <td>tt9851050</td>\n",
       "      <td>4.7</td>\n",
       "      <td>14</td>\n",
       "    </tr>\n",
       "    <tr>\n",
       "      <th>73854</th>\n",
       "      <td>tt9886934</td>\n",
       "      <td>7.0</td>\n",
       "      <td>5</td>\n",
       "    </tr>\n",
       "    <tr>\n",
       "      <th>73855</th>\n",
       "      <td>tt9894098</td>\n",
       "      <td>6.3</td>\n",
       "      <td>128</td>\n",
       "    </tr>\n",
       "  </tbody>\n",
       "</table>\n",
       "</div>"
      ],
      "text/plain": [
       "        movie_id  averagerating  numvotes\n",
       "73851  tt9805820            8.1        25\n",
       "73852  tt9844256            7.5        24\n",
       "73853  tt9851050            4.7        14\n",
       "73854  tt9886934            7.0         5\n",
       "73855  tt9894098            6.3       128"
      ]
     },
     "execution_count": 16,
     "metadata": {},
     "output_type": "execute_result"
    }
   ],
   "source": [
    "#To display the last few rows\n",
    "ratings.tail()"
   ]
  },
  {
   "cell_type": "code",
   "execution_count": 17,
   "metadata": {},
   "outputs": [
    {
     "name": "stdout",
     "output_type": "stream",
     "text": [
      "<class 'pandas.core.frame.DataFrame'>\n",
      "RangeIndex: 73856 entries, 0 to 73855\n",
      "Data columns (total 3 columns):\n",
      " #   Column         Non-Null Count  Dtype  \n",
      "---  ------         --------------  -----  \n",
      " 0   movie_id       73856 non-null  object \n",
      " 1   averagerating  73856 non-null  float64\n",
      " 2   numvotes       73856 non-null  int64  \n",
      "dtypes: float64(1), int64(1), object(1)\n",
      "memory usage: 1.7+ MB\n"
     ]
    }
   ],
   "source": [
    "#To get the information summary on the table\n",
    "# we see some of the columns have null entries, data types of the columns.\n",
    "\n",
    "ratings.info()"
   ]
  },
  {
   "cell_type": "code",
   "execution_count": 18,
   "metadata": {},
   "outputs": [
    {
     "data": {
      "text/plain": [
       "(73856, 3)"
      ]
     },
     "execution_count": 18,
     "metadata": {},
     "output_type": "execute_result"
    }
   ],
   "source": [
    "#Check the number of rows and columns\n",
    "#There are 3 columns and 73856 rows\n",
    "ratings.shape"
   ]
  },
  {
   "cell_type": "code",
   "execution_count": 19,
   "metadata": {},
   "outputs": [
    {
     "data": {
      "text/html": [
       "<div>\n",
       "<style scoped>\n",
       "    .dataframe tbody tr th:only-of-type {\n",
       "        vertical-align: middle;\n",
       "    }\n",
       "\n",
       "    .dataframe tbody tr th {\n",
       "        vertical-align: top;\n",
       "    }\n",
       "\n",
       "    .dataframe thead th {\n",
       "        text-align: right;\n",
       "    }\n",
       "</style>\n",
       "<table border=\"1\" class=\"dataframe\">\n",
       "  <thead>\n",
       "    <tr style=\"text-align: right;\">\n",
       "      <th></th>\n",
       "      <th>averagerating</th>\n",
       "      <th>numvotes</th>\n",
       "    </tr>\n",
       "  </thead>\n",
       "  <tbody>\n",
       "    <tr>\n",
       "      <th>count</th>\n",
       "      <td>73856.000000</td>\n",
       "      <td>7.385600e+04</td>\n",
       "    </tr>\n",
       "    <tr>\n",
       "      <th>mean</th>\n",
       "      <td>6.332729</td>\n",
       "      <td>3.523662e+03</td>\n",
       "    </tr>\n",
       "    <tr>\n",
       "      <th>std</th>\n",
       "      <td>1.474978</td>\n",
       "      <td>3.029402e+04</td>\n",
       "    </tr>\n",
       "    <tr>\n",
       "      <th>min</th>\n",
       "      <td>1.000000</td>\n",
       "      <td>5.000000e+00</td>\n",
       "    </tr>\n",
       "    <tr>\n",
       "      <th>25%</th>\n",
       "      <td>5.500000</td>\n",
       "      <td>1.400000e+01</td>\n",
       "    </tr>\n",
       "    <tr>\n",
       "      <th>50%</th>\n",
       "      <td>6.500000</td>\n",
       "      <td>4.900000e+01</td>\n",
       "    </tr>\n",
       "    <tr>\n",
       "      <th>75%</th>\n",
       "      <td>7.400000</td>\n",
       "      <td>2.820000e+02</td>\n",
       "    </tr>\n",
       "    <tr>\n",
       "      <th>max</th>\n",
       "      <td>10.000000</td>\n",
       "      <td>1.841066e+06</td>\n",
       "    </tr>\n",
       "  </tbody>\n",
       "</table>\n",
       "</div>"
      ],
      "text/plain": [
       "       averagerating      numvotes\n",
       "count   73856.000000  7.385600e+04\n",
       "mean        6.332729  3.523662e+03\n",
       "std         1.474978  3.029402e+04\n",
       "min         1.000000  5.000000e+00\n",
       "25%         5.500000  1.400000e+01\n",
       "50%         6.500000  4.900000e+01\n",
       "75%         7.400000  2.820000e+02\n",
       "max        10.000000  1.841066e+06"
      ]
     },
     "execution_count": 19,
     "metadata": {},
     "output_type": "execute_result"
    }
   ],
   "source": [
    "#Gettings a summary of the numeric columns\n",
    "ratings.describe()"
   ]
  },
  {
   "cell_type": "code",
   "execution_count": 20,
   "metadata": {},
   "outputs": [
    {
     "data": {
      "text/plain": [
       "movie_id         0\n",
       "averagerating    0\n",
       "numvotes         0\n",
       "dtype: int64"
      ]
     },
     "execution_count": 20,
     "metadata": {},
     "output_type": "execute_result"
    }
   ],
   "source": [
    "#To check null values\n",
    "ratings.isna().sum()"
   ]
  },
  {
   "cell_type": "code",
   "execution_count": 21,
   "metadata": {},
   "outputs": [
    {
     "data": {
      "text/plain": [
       "0"
      ]
     },
     "execution_count": 21,
     "metadata": {},
     "output_type": "execute_result"
    }
   ],
   "source": [
    "# To check Duplicates\n",
    "ratings.duplicated().sum()"
   ]
  },
  {
   "cell_type": "code",
   "execution_count": 22,
   "metadata": {},
   "outputs": [],
   "source": [
    "# Making a copy of the dataframe to use it avoid making permanent changes to the original\n",
    "ratings_copy = ratings.copy()"
   ]
  },
  {
   "cell_type": "markdown",
   "metadata": {},
   "source": [
    "3. Inspecting gross"
   ]
  },
  {
   "cell_type": "code",
   "execution_count": 23,
   "metadata": {},
   "outputs": [
    {
     "data": {
      "text/html": [
       "<div>\n",
       "<style scoped>\n",
       "    .dataframe tbody tr th:only-of-type {\n",
       "        vertical-align: middle;\n",
       "    }\n",
       "\n",
       "    .dataframe tbody tr th {\n",
       "        vertical-align: top;\n",
       "    }\n",
       "\n",
       "    .dataframe thead th {\n",
       "        text-align: right;\n",
       "    }\n",
       "</style>\n",
       "<table border=\"1\" class=\"dataframe\">\n",
       "  <thead>\n",
       "    <tr style=\"text-align: right;\">\n",
       "      <th></th>\n",
       "      <th>studio</th>\n",
       "      <th>domestic_gross</th>\n",
       "      <th>foreign_gross</th>\n",
       "      <th>year</th>\n",
       "    </tr>\n",
       "    <tr>\n",
       "      <th>title</th>\n",
       "      <th></th>\n",
       "      <th></th>\n",
       "      <th></th>\n",
       "      <th></th>\n",
       "    </tr>\n",
       "  </thead>\n",
       "  <tbody>\n",
       "    <tr>\n",
       "      <th>Toy Story 3</th>\n",
       "      <td>BV</td>\n",
       "      <td>415000000.0</td>\n",
       "      <td>652000000</td>\n",
       "      <td>2010</td>\n",
       "    </tr>\n",
       "    <tr>\n",
       "      <th>Alice in Wonderland (2010)</th>\n",
       "      <td>BV</td>\n",
       "      <td>334200000.0</td>\n",
       "      <td>691300000</td>\n",
       "      <td>2010</td>\n",
       "    </tr>\n",
       "    <tr>\n",
       "      <th>Harry Potter and the Deathly Hallows Part 1</th>\n",
       "      <td>WB</td>\n",
       "      <td>296000000.0</td>\n",
       "      <td>664300000</td>\n",
       "      <td>2010</td>\n",
       "    </tr>\n",
       "    <tr>\n",
       "      <th>Inception</th>\n",
       "      <td>WB</td>\n",
       "      <td>292600000.0</td>\n",
       "      <td>535700000</td>\n",
       "      <td>2010</td>\n",
       "    </tr>\n",
       "    <tr>\n",
       "      <th>Shrek Forever After</th>\n",
       "      <td>P/DW</td>\n",
       "      <td>238700000.0</td>\n",
       "      <td>513900000</td>\n",
       "      <td>2010</td>\n",
       "    </tr>\n",
       "  </tbody>\n",
       "</table>\n",
       "</div>"
      ],
      "text/plain": [
       "                                            studio  domestic_gross  \\\n",
       "title                                                                \n",
       "Toy Story 3                                     BV     415000000.0   \n",
       "Alice in Wonderland (2010)                      BV     334200000.0   \n",
       "Harry Potter and the Deathly Hallows Part 1     WB     296000000.0   \n",
       "Inception                                       WB     292600000.0   \n",
       "Shrek Forever After                           P/DW     238700000.0   \n",
       "\n",
       "                                            foreign_gross  year  \n",
       "title                                                            \n",
       "Toy Story 3                                     652000000  2010  \n",
       "Alice in Wonderland (2010)                      691300000  2010  \n",
       "Harry Potter and the Deathly Hallows Part 1     664300000  2010  \n",
       "Inception                                       535700000  2010  \n",
       "Shrek Forever After                             513900000  2010  "
      ]
     },
     "execution_count": 23,
     "metadata": {},
     "output_type": "execute_result"
    }
   ],
   "source": [
    "#To display the first few rows\n",
    "gross.head()"
   ]
  },
  {
   "cell_type": "code",
   "execution_count": 24,
   "metadata": {},
   "outputs": [
    {
     "data": {
      "text/html": [
       "<div>\n",
       "<style scoped>\n",
       "    .dataframe tbody tr th:only-of-type {\n",
       "        vertical-align: middle;\n",
       "    }\n",
       "\n",
       "    .dataframe tbody tr th {\n",
       "        vertical-align: top;\n",
       "    }\n",
       "\n",
       "    .dataframe thead th {\n",
       "        text-align: right;\n",
       "    }\n",
       "</style>\n",
       "<table border=\"1\" class=\"dataframe\">\n",
       "  <thead>\n",
       "    <tr style=\"text-align: right;\">\n",
       "      <th></th>\n",
       "      <th>studio</th>\n",
       "      <th>domestic_gross</th>\n",
       "      <th>foreign_gross</th>\n",
       "      <th>year</th>\n",
       "    </tr>\n",
       "    <tr>\n",
       "      <th>title</th>\n",
       "      <th></th>\n",
       "      <th></th>\n",
       "      <th></th>\n",
       "      <th></th>\n",
       "    </tr>\n",
       "  </thead>\n",
       "  <tbody>\n",
       "    <tr>\n",
       "      <th>The Quake</th>\n",
       "      <td>Magn.</td>\n",
       "      <td>6200.0</td>\n",
       "      <td>NaN</td>\n",
       "      <td>2018</td>\n",
       "    </tr>\n",
       "    <tr>\n",
       "      <th>Edward II (2018 re-release)</th>\n",
       "      <td>FM</td>\n",
       "      <td>4800.0</td>\n",
       "      <td>NaN</td>\n",
       "      <td>2018</td>\n",
       "    </tr>\n",
       "    <tr>\n",
       "      <th>El Pacto</th>\n",
       "      <td>Sony</td>\n",
       "      <td>2500.0</td>\n",
       "      <td>NaN</td>\n",
       "      <td>2018</td>\n",
       "    </tr>\n",
       "    <tr>\n",
       "      <th>The Swan</th>\n",
       "      <td>Synergetic</td>\n",
       "      <td>2400.0</td>\n",
       "      <td>NaN</td>\n",
       "      <td>2018</td>\n",
       "    </tr>\n",
       "    <tr>\n",
       "      <th>An Actor Prepares</th>\n",
       "      <td>Grav.</td>\n",
       "      <td>1700.0</td>\n",
       "      <td>NaN</td>\n",
       "      <td>2018</td>\n",
       "    </tr>\n",
       "  </tbody>\n",
       "</table>\n",
       "</div>"
      ],
      "text/plain": [
       "                                 studio  domestic_gross foreign_gross  year\n",
       "title                                                                      \n",
       "The Quake                         Magn.          6200.0           NaN  2018\n",
       "Edward II (2018 re-release)          FM          4800.0           NaN  2018\n",
       "El Pacto                           Sony          2500.0           NaN  2018\n",
       "The Swan                     Synergetic          2400.0           NaN  2018\n",
       "An Actor Prepares                 Grav.          1700.0           NaN  2018"
      ]
     },
     "execution_count": 24,
     "metadata": {},
     "output_type": "execute_result"
    }
   ],
   "source": [
    "#To display the last few rows\n",
    "gross.tail()"
   ]
  },
  {
   "cell_type": "code",
   "execution_count": 25,
   "metadata": {},
   "outputs": [
    {
     "name": "stdout",
     "output_type": "stream",
     "text": [
      "<class 'pandas.core.frame.DataFrame'>\n",
      "Index: 3387 entries, Toy Story 3 to An Actor Prepares\n",
      "Data columns (total 4 columns):\n",
      " #   Column          Non-Null Count  Dtype  \n",
      "---  ------          --------------  -----  \n",
      " 0   studio          3382 non-null   object \n",
      " 1   domestic_gross  3359 non-null   float64\n",
      " 2   foreign_gross   2037 non-null   object \n",
      " 3   year            3387 non-null   int64  \n",
      "dtypes: float64(1), int64(1), object(2)\n",
      "memory usage: 132.3+ KB\n"
     ]
    }
   ],
   "source": [
    "#To get the information summary on the table\n",
    "# we see some of the columns have null entries, data types of the columns.\n",
    "\n",
    "gross.info()"
   ]
  },
  {
   "cell_type": "code",
   "execution_count": 26,
   "metadata": {},
   "outputs": [
    {
     "data": {
      "text/plain": [
       "(3387, 4)"
      ]
     },
     "execution_count": 26,
     "metadata": {},
     "output_type": "execute_result"
    }
   ],
   "source": [
    "#Check the number of rows and columns\n",
    "#There are 4 columns and 3387 rows\n",
    "gross.shape"
   ]
  },
  {
   "cell_type": "code",
   "execution_count": 27,
   "metadata": {},
   "outputs": [
    {
     "data": {
      "text/html": [
       "<div>\n",
       "<style scoped>\n",
       "    .dataframe tbody tr th:only-of-type {\n",
       "        vertical-align: middle;\n",
       "    }\n",
       "\n",
       "    .dataframe tbody tr th {\n",
       "        vertical-align: top;\n",
       "    }\n",
       "\n",
       "    .dataframe thead th {\n",
       "        text-align: right;\n",
       "    }\n",
       "</style>\n",
       "<table border=\"1\" class=\"dataframe\">\n",
       "  <thead>\n",
       "    <tr style=\"text-align: right;\">\n",
       "      <th></th>\n",
       "      <th>domestic_gross</th>\n",
       "      <th>year</th>\n",
       "    </tr>\n",
       "  </thead>\n",
       "  <tbody>\n",
       "    <tr>\n",
       "      <th>count</th>\n",
       "      <td>3.359000e+03</td>\n",
       "      <td>3387.000000</td>\n",
       "    </tr>\n",
       "    <tr>\n",
       "      <th>mean</th>\n",
       "      <td>2.874585e+07</td>\n",
       "      <td>2013.958075</td>\n",
       "    </tr>\n",
       "    <tr>\n",
       "      <th>std</th>\n",
       "      <td>6.698250e+07</td>\n",
       "      <td>2.478141</td>\n",
       "    </tr>\n",
       "    <tr>\n",
       "      <th>min</th>\n",
       "      <td>1.000000e+02</td>\n",
       "      <td>2010.000000</td>\n",
       "    </tr>\n",
       "    <tr>\n",
       "      <th>25%</th>\n",
       "      <td>1.200000e+05</td>\n",
       "      <td>2012.000000</td>\n",
       "    </tr>\n",
       "    <tr>\n",
       "      <th>50%</th>\n",
       "      <td>1.400000e+06</td>\n",
       "      <td>2014.000000</td>\n",
       "    </tr>\n",
       "    <tr>\n",
       "      <th>75%</th>\n",
       "      <td>2.790000e+07</td>\n",
       "      <td>2016.000000</td>\n",
       "    </tr>\n",
       "    <tr>\n",
       "      <th>max</th>\n",
       "      <td>9.367000e+08</td>\n",
       "      <td>2018.000000</td>\n",
       "    </tr>\n",
       "  </tbody>\n",
       "</table>\n",
       "</div>"
      ],
      "text/plain": [
       "       domestic_gross         year\n",
       "count    3.359000e+03  3387.000000\n",
       "mean     2.874585e+07  2013.958075\n",
       "std      6.698250e+07     2.478141\n",
       "min      1.000000e+02  2010.000000\n",
       "25%      1.200000e+05  2012.000000\n",
       "50%      1.400000e+06  2014.000000\n",
       "75%      2.790000e+07  2016.000000\n",
       "max      9.367000e+08  2018.000000"
      ]
     },
     "execution_count": 27,
     "metadata": {},
     "output_type": "execute_result"
    }
   ],
   "source": [
    "#Gettings a summary of the numeric columns\n",
    "gross.describe()"
   ]
  },
  {
   "cell_type": "code",
   "execution_count": 28,
   "metadata": {},
   "outputs": [
    {
     "data": {
      "text/plain": [
       "studio               5\n",
       "domestic_gross      28\n",
       "foreign_gross     1350\n",
       "year                 0\n",
       "dtype: int64"
      ]
     },
     "execution_count": 28,
     "metadata": {},
     "output_type": "execute_result"
    }
   ],
   "source": [
    "#To check null values\n",
    "gross.isna().sum()"
   ]
  },
  {
   "cell_type": "code",
   "execution_count": 29,
   "metadata": {},
   "outputs": [
    {
     "data": {
      "text/plain": [
       "11"
      ]
     },
     "execution_count": 29,
     "metadata": {},
     "output_type": "execute_result"
    }
   ],
   "source": [
    "# To check Duplicates\n",
    "gross.duplicated().sum()"
   ]
  },
  {
   "cell_type": "code",
   "execution_count": 30,
   "metadata": {},
   "outputs": [],
   "source": [
    "# sorting the data in ascending order inorder to test for outliers.\n",
    "gross_year = gross.sort_values(by ='year',ascending = True)"
   ]
  },
  {
   "cell_type": "code",
   "execution_count": 32,
   "metadata": {},
   "outputs": [],
   "source": [
    "# Making a copy of the dataframe to use it avoid making permanent changes to the original\n",
    "gross_copy = gross.copy()"
   ]
  },
  {
   "cell_type": "markdown",
   "metadata": {},
   "source": [
    "4. Inspecting Movie"
   ]
  },
  {
   "cell_type": "code",
   "execution_count": 33,
   "metadata": {
    "scrolled": true
   },
   "outputs": [
    {
     "data": {
      "text/html": [
       "<div>\n",
       "<style scoped>\n",
       "    .dataframe tbody tr th:only-of-type {\n",
       "        vertical-align: middle;\n",
       "    }\n",
       "\n",
       "    .dataframe tbody tr th {\n",
       "        vertical-align: top;\n",
       "    }\n",
       "\n",
       "    .dataframe thead th {\n",
       "        text-align: right;\n",
       "    }\n",
       "</style>\n",
       "<table border=\"1\" class=\"dataframe\">\n",
       "  <thead>\n",
       "    <tr style=\"text-align: right;\">\n",
       "      <th></th>\n",
       "      <th>genre_ids</th>\n",
       "      <th>id</th>\n",
       "      <th>original_language</th>\n",
       "      <th>original_title</th>\n",
       "      <th>popularity</th>\n",
       "      <th>release_date</th>\n",
       "      <th>title</th>\n",
       "      <th>vote_average</th>\n",
       "      <th>vote_count</th>\n",
       "    </tr>\n",
       "  </thead>\n",
       "  <tbody>\n",
       "    <tr>\n",
       "      <th>0</th>\n",
       "      <td>[12, 14, 10751]</td>\n",
       "      <td>12444</td>\n",
       "      <td>en</td>\n",
       "      <td>Harry Potter and the Deathly Hallows: Part 1</td>\n",
       "      <td>33.533</td>\n",
       "      <td>2010-11-19</td>\n",
       "      <td>Harry Potter and the Deathly Hallows: Part 1</td>\n",
       "      <td>7.7</td>\n",
       "      <td>10788</td>\n",
       "    </tr>\n",
       "    <tr>\n",
       "      <th>1</th>\n",
       "      <td>[14, 12, 16, 10751]</td>\n",
       "      <td>10191</td>\n",
       "      <td>en</td>\n",
       "      <td>How to Train Your Dragon</td>\n",
       "      <td>28.734</td>\n",
       "      <td>2010-03-26</td>\n",
       "      <td>How to Train Your Dragon</td>\n",
       "      <td>7.7</td>\n",
       "      <td>7610</td>\n",
       "    </tr>\n",
       "    <tr>\n",
       "      <th>2</th>\n",
       "      <td>[12, 28, 878]</td>\n",
       "      <td>10138</td>\n",
       "      <td>en</td>\n",
       "      <td>Iron Man 2</td>\n",
       "      <td>28.515</td>\n",
       "      <td>2010-05-07</td>\n",
       "      <td>Iron Man 2</td>\n",
       "      <td>6.8</td>\n",
       "      <td>12368</td>\n",
       "    </tr>\n",
       "    <tr>\n",
       "      <th>3</th>\n",
       "      <td>[16, 35, 10751]</td>\n",
       "      <td>862</td>\n",
       "      <td>en</td>\n",
       "      <td>Toy Story</td>\n",
       "      <td>28.005</td>\n",
       "      <td>1995-11-22</td>\n",
       "      <td>Toy Story</td>\n",
       "      <td>7.9</td>\n",
       "      <td>10174</td>\n",
       "    </tr>\n",
       "    <tr>\n",
       "      <th>4</th>\n",
       "      <td>[28, 878, 12]</td>\n",
       "      <td>27205</td>\n",
       "      <td>en</td>\n",
       "      <td>Inception</td>\n",
       "      <td>27.920</td>\n",
       "      <td>2010-07-16</td>\n",
       "      <td>Inception</td>\n",
       "      <td>8.3</td>\n",
       "      <td>22186</td>\n",
       "    </tr>\n",
       "  </tbody>\n",
       "</table>\n",
       "</div>"
      ],
      "text/plain": [
       "             genre_ids     id original_language  \\\n",
       "0      [12, 14, 10751]  12444                en   \n",
       "1  [14, 12, 16, 10751]  10191                en   \n",
       "2        [12, 28, 878]  10138                en   \n",
       "3      [16, 35, 10751]    862                en   \n",
       "4        [28, 878, 12]  27205                en   \n",
       "\n",
       "                                 original_title  popularity release_date  \\\n",
       "0  Harry Potter and the Deathly Hallows: Part 1      33.533   2010-11-19   \n",
       "1                      How to Train Your Dragon      28.734   2010-03-26   \n",
       "2                                    Iron Man 2      28.515   2010-05-07   \n",
       "3                                     Toy Story      28.005   1995-11-22   \n",
       "4                                     Inception      27.920   2010-07-16   \n",
       "\n",
       "                                          title  vote_average  vote_count  \n",
       "0  Harry Potter and the Deathly Hallows: Part 1           7.7       10788  \n",
       "1                      How to Train Your Dragon           7.7        7610  \n",
       "2                                    Iron Man 2           6.8       12368  \n",
       "3                                     Toy Story           7.9       10174  \n",
       "4                                     Inception           8.3       22186  "
      ]
     },
     "execution_count": 33,
     "metadata": {},
     "output_type": "execute_result"
    }
   ],
   "source": [
    "#To display the first few rows\n",
    "movie.head()"
   ]
  },
  {
   "cell_type": "code",
   "execution_count": 34,
   "metadata": {},
   "outputs": [
    {
     "data": {
      "text/html": [
       "<div>\n",
       "<style scoped>\n",
       "    .dataframe tbody tr th:only-of-type {\n",
       "        vertical-align: middle;\n",
       "    }\n",
       "\n",
       "    .dataframe tbody tr th {\n",
       "        vertical-align: top;\n",
       "    }\n",
       "\n",
       "    .dataframe thead th {\n",
       "        text-align: right;\n",
       "    }\n",
       "</style>\n",
       "<table border=\"1\" class=\"dataframe\">\n",
       "  <thead>\n",
       "    <tr style=\"text-align: right;\">\n",
       "      <th></th>\n",
       "      <th>genre_ids</th>\n",
       "      <th>id</th>\n",
       "      <th>original_language</th>\n",
       "      <th>original_title</th>\n",
       "      <th>popularity</th>\n",
       "      <th>release_date</th>\n",
       "      <th>title</th>\n",
       "      <th>vote_average</th>\n",
       "      <th>vote_count</th>\n",
       "    </tr>\n",
       "  </thead>\n",
       "  <tbody>\n",
       "    <tr>\n",
       "      <th>26512</th>\n",
       "      <td>[27, 18]</td>\n",
       "      <td>488143</td>\n",
       "      <td>en</td>\n",
       "      <td>Laboratory Conditions</td>\n",
       "      <td>0.6</td>\n",
       "      <td>2018-10-13</td>\n",
       "      <td>Laboratory Conditions</td>\n",
       "      <td>0.0</td>\n",
       "      <td>1</td>\n",
       "    </tr>\n",
       "    <tr>\n",
       "      <th>26513</th>\n",
       "      <td>[18, 53]</td>\n",
       "      <td>485975</td>\n",
       "      <td>en</td>\n",
       "      <td>_EXHIBIT_84xxx_</td>\n",
       "      <td>0.6</td>\n",
       "      <td>2018-05-01</td>\n",
       "      <td>_EXHIBIT_84xxx_</td>\n",
       "      <td>0.0</td>\n",
       "      <td>1</td>\n",
       "    </tr>\n",
       "    <tr>\n",
       "      <th>26514</th>\n",
       "      <td>[14, 28, 12]</td>\n",
       "      <td>381231</td>\n",
       "      <td>en</td>\n",
       "      <td>The Last One</td>\n",
       "      <td>0.6</td>\n",
       "      <td>2018-10-01</td>\n",
       "      <td>The Last One</td>\n",
       "      <td>0.0</td>\n",
       "      <td>1</td>\n",
       "    </tr>\n",
       "    <tr>\n",
       "      <th>26515</th>\n",
       "      <td>[10751, 12, 28]</td>\n",
       "      <td>366854</td>\n",
       "      <td>en</td>\n",
       "      <td>Trailer Made</td>\n",
       "      <td>0.6</td>\n",
       "      <td>2018-06-22</td>\n",
       "      <td>Trailer Made</td>\n",
       "      <td>0.0</td>\n",
       "      <td>1</td>\n",
       "    </tr>\n",
       "    <tr>\n",
       "      <th>26516</th>\n",
       "      <td>[53, 27]</td>\n",
       "      <td>309885</td>\n",
       "      <td>en</td>\n",
       "      <td>The Church</td>\n",
       "      <td>0.6</td>\n",
       "      <td>2018-10-05</td>\n",
       "      <td>The Church</td>\n",
       "      <td>0.0</td>\n",
       "      <td>1</td>\n",
       "    </tr>\n",
       "  </tbody>\n",
       "</table>\n",
       "</div>"
      ],
      "text/plain": [
       "             genre_ids      id original_language         original_title  \\\n",
       "26512         [27, 18]  488143                en  Laboratory Conditions   \n",
       "26513         [18, 53]  485975                en        _EXHIBIT_84xxx_   \n",
       "26514     [14, 28, 12]  381231                en           The Last One   \n",
       "26515  [10751, 12, 28]  366854                en           Trailer Made   \n",
       "26516         [53, 27]  309885                en             The Church   \n",
       "\n",
       "       popularity release_date                  title  vote_average  \\\n",
       "26512         0.6   2018-10-13  Laboratory Conditions           0.0   \n",
       "26513         0.6   2018-05-01        _EXHIBIT_84xxx_           0.0   \n",
       "26514         0.6   2018-10-01           The Last One           0.0   \n",
       "26515         0.6   2018-06-22           Trailer Made           0.0   \n",
       "26516         0.6   2018-10-05             The Church           0.0   \n",
       "\n",
       "       vote_count  \n",
       "26512           1  \n",
       "26513           1  \n",
       "26514           1  \n",
       "26515           1  \n",
       "26516           1  "
      ]
     },
     "execution_count": 34,
     "metadata": {},
     "output_type": "execute_result"
    }
   ],
   "source": [
    "#To display the last few rows\n",
    "movie.tail()"
   ]
  },
  {
   "cell_type": "code",
   "execution_count": 35,
   "metadata": {},
   "outputs": [
    {
     "name": "stdout",
     "output_type": "stream",
     "text": [
      "<class 'pandas.core.frame.DataFrame'>\n",
      "Int64Index: 26517 entries, 0 to 26516\n",
      "Data columns (total 9 columns):\n",
      " #   Column             Non-Null Count  Dtype  \n",
      "---  ------             --------------  -----  \n",
      " 0   genre_ids          26517 non-null  object \n",
      " 1   id                 26517 non-null  int64  \n",
      " 2   original_language  26517 non-null  object \n",
      " 3   original_title     26517 non-null  object \n",
      " 4   popularity         26517 non-null  float64\n",
      " 5   release_date       26517 non-null  object \n",
      " 6   title              26517 non-null  object \n",
      " 7   vote_average       26517 non-null  float64\n",
      " 8   vote_count         26517 non-null  int64  \n",
      "dtypes: float64(2), int64(2), object(5)\n",
      "memory usage: 2.0+ MB\n"
     ]
    }
   ],
   "source": [
    "#To get the information summary on the table\n",
    "# we see some of the columns have null entries, data types of the columns.\n",
    "\n",
    "movie.info()"
   ]
  },
  {
   "cell_type": "code",
   "execution_count": null,
   "metadata": {},
   "outputs": [],
   "source": [
    "#Check the number of rows and columns\n",
    "#There are 9 columns and 26517\n",
    "movie.shape"
   ]
  },
  {
   "cell_type": "code",
   "execution_count": 36,
   "metadata": {},
   "outputs": [
    {
     "data": {
      "text/html": [
       "<div>\n",
       "<style scoped>\n",
       "    .dataframe tbody tr th:only-of-type {\n",
       "        vertical-align: middle;\n",
       "    }\n",
       "\n",
       "    .dataframe tbody tr th {\n",
       "        vertical-align: top;\n",
       "    }\n",
       "\n",
       "    .dataframe thead th {\n",
       "        text-align: right;\n",
       "    }\n",
       "</style>\n",
       "<table border=\"1\" class=\"dataframe\">\n",
       "  <thead>\n",
       "    <tr style=\"text-align: right;\">\n",
       "      <th></th>\n",
       "      <th>id</th>\n",
       "      <th>popularity</th>\n",
       "      <th>vote_average</th>\n",
       "      <th>vote_count</th>\n",
       "    </tr>\n",
       "  </thead>\n",
       "  <tbody>\n",
       "    <tr>\n",
       "      <th>count</th>\n",
       "      <td>26517.000000</td>\n",
       "      <td>26517.000000</td>\n",
       "      <td>26517.000000</td>\n",
       "      <td>26517.000000</td>\n",
       "    </tr>\n",
       "    <tr>\n",
       "      <th>mean</th>\n",
       "      <td>295050.153260</td>\n",
       "      <td>3.130912</td>\n",
       "      <td>5.991281</td>\n",
       "      <td>194.224837</td>\n",
       "    </tr>\n",
       "    <tr>\n",
       "      <th>std</th>\n",
       "      <td>153661.615648</td>\n",
       "      <td>4.355229</td>\n",
       "      <td>1.852946</td>\n",
       "      <td>960.961095</td>\n",
       "    </tr>\n",
       "    <tr>\n",
       "      <th>min</th>\n",
       "      <td>27.000000</td>\n",
       "      <td>0.600000</td>\n",
       "      <td>0.000000</td>\n",
       "      <td>1.000000</td>\n",
       "    </tr>\n",
       "    <tr>\n",
       "      <th>25%</th>\n",
       "      <td>157851.000000</td>\n",
       "      <td>0.600000</td>\n",
       "      <td>5.000000</td>\n",
       "      <td>2.000000</td>\n",
       "    </tr>\n",
       "    <tr>\n",
       "      <th>50%</th>\n",
       "      <td>309581.000000</td>\n",
       "      <td>1.374000</td>\n",
       "      <td>6.000000</td>\n",
       "      <td>5.000000</td>\n",
       "    </tr>\n",
       "    <tr>\n",
       "      <th>75%</th>\n",
       "      <td>419542.000000</td>\n",
       "      <td>3.694000</td>\n",
       "      <td>7.000000</td>\n",
       "      <td>28.000000</td>\n",
       "    </tr>\n",
       "    <tr>\n",
       "      <th>max</th>\n",
       "      <td>608444.000000</td>\n",
       "      <td>80.773000</td>\n",
       "      <td>10.000000</td>\n",
       "      <td>22186.000000</td>\n",
       "    </tr>\n",
       "  </tbody>\n",
       "</table>\n",
       "</div>"
      ],
      "text/plain": [
       "                  id    popularity  vote_average    vote_count\n",
       "count   26517.000000  26517.000000  26517.000000  26517.000000\n",
       "mean   295050.153260      3.130912      5.991281    194.224837\n",
       "std    153661.615648      4.355229      1.852946    960.961095\n",
       "min        27.000000      0.600000      0.000000      1.000000\n",
       "25%    157851.000000      0.600000      5.000000      2.000000\n",
       "50%    309581.000000      1.374000      6.000000      5.000000\n",
       "75%    419542.000000      3.694000      7.000000     28.000000\n",
       "max    608444.000000     80.773000     10.000000  22186.000000"
      ]
     },
     "execution_count": 36,
     "metadata": {},
     "output_type": "execute_result"
    }
   ],
   "source": [
    "#Gettings a summary of the numeric columns\n",
    "movie.describe()"
   ]
  },
  {
   "cell_type": "code",
   "execution_count": 37,
   "metadata": {},
   "outputs": [
    {
     "data": {
      "text/plain": [
       "genre_ids            0\n",
       "id                   0\n",
       "original_language    0\n",
       "original_title       0\n",
       "popularity           0\n",
       "release_date         0\n",
       "title                0\n",
       "vote_average         0\n",
       "vote_count           0\n",
       "dtype: int64"
      ]
     },
     "execution_count": 37,
     "metadata": {},
     "output_type": "execute_result"
    }
   ],
   "source": [
    "#To check null values\n",
    "movie.isna().sum()"
   ]
  },
  {
   "cell_type": "code",
   "execution_count": 38,
   "metadata": {},
   "outputs": [
    {
     "data": {
      "text/plain": [
       "1020"
      ]
     },
     "execution_count": 38,
     "metadata": {},
     "output_type": "execute_result"
    }
   ],
   "source": [
    "# To check Duplicates\n",
    "movie.duplicated().sum()"
   ]
  },
  {
   "cell_type": "code",
   "execution_count": 39,
   "metadata": {},
   "outputs": [],
   "source": [
    "# sorting the data in ascending order inorder to test for outliers.\n",
    "movie_id = movie.sort_values(by ='id',ascending = True)"
   ]
  },
  {
   "cell_type": "code",
   "execution_count": 43,
   "metadata": {},
   "outputs": [],
   "source": [
    "# Making a copy of the dataframe to use it avoid making permanent changes to the original\n",
    "movie_copy = movie.copy()"
   ]
  },
  {
   "cell_type": "markdown",
   "metadata": {},
   "source": [
    "5. Inspecting budgets"
   ]
  },
  {
   "cell_type": "code",
   "execution_count": 42,
   "metadata": {},
   "outputs": [
    {
     "data": {
      "text/html": [
       "<div>\n",
       "<style scoped>\n",
       "    .dataframe tbody tr th:only-of-type {\n",
       "        vertical-align: middle;\n",
       "    }\n",
       "\n",
       "    .dataframe tbody tr th {\n",
       "        vertical-align: top;\n",
       "    }\n",
       "\n",
       "    .dataframe thead th {\n",
       "        text-align: right;\n",
       "    }\n",
       "</style>\n",
       "<table border=\"1\" class=\"dataframe\">\n",
       "  <thead>\n",
       "    <tr style=\"text-align: right;\">\n",
       "      <th></th>\n",
       "      <th>release_date</th>\n",
       "      <th>movie</th>\n",
       "      <th>production_budget</th>\n",
       "      <th>domestic_gross</th>\n",
       "      <th>worldwide_gross</th>\n",
       "    </tr>\n",
       "    <tr>\n",
       "      <th>id</th>\n",
       "      <th></th>\n",
       "      <th></th>\n",
       "      <th></th>\n",
       "      <th></th>\n",
       "      <th></th>\n",
       "    </tr>\n",
       "  </thead>\n",
       "  <tbody>\n",
       "    <tr>\n",
       "      <th>1</th>\n",
       "      <td>Dec 18, 2009</td>\n",
       "      <td>Avatar</td>\n",
       "      <td>$425,000,000</td>\n",
       "      <td>$760,507,625</td>\n",
       "      <td>$2,776,345,279</td>\n",
       "    </tr>\n",
       "    <tr>\n",
       "      <th>2</th>\n",
       "      <td>May 20, 2011</td>\n",
       "      <td>Pirates of the Caribbean: On Stranger Tides</td>\n",
       "      <td>$410,600,000</td>\n",
       "      <td>$241,063,875</td>\n",
       "      <td>$1,045,663,875</td>\n",
       "    </tr>\n",
       "    <tr>\n",
       "      <th>3</th>\n",
       "      <td>Jun 7, 2019</td>\n",
       "      <td>Dark Phoenix</td>\n",
       "      <td>$350,000,000</td>\n",
       "      <td>$42,762,350</td>\n",
       "      <td>$149,762,350</td>\n",
       "    </tr>\n",
       "    <tr>\n",
       "      <th>4</th>\n",
       "      <td>May 1, 2015</td>\n",
       "      <td>Avengers: Age of Ultron</td>\n",
       "      <td>$330,600,000</td>\n",
       "      <td>$459,005,868</td>\n",
       "      <td>$1,403,013,963</td>\n",
       "    </tr>\n",
       "    <tr>\n",
       "      <th>5</th>\n",
       "      <td>Dec 15, 2017</td>\n",
       "      <td>Star Wars Ep. VIII: The Last Jedi</td>\n",
       "      <td>$317,000,000</td>\n",
       "      <td>$620,181,382</td>\n",
       "      <td>$1,316,721,747</td>\n",
       "    </tr>\n",
       "  </tbody>\n",
       "</table>\n",
       "</div>"
      ],
      "text/plain": [
       "    release_date                                        movie  \\\n",
       "id                                                              \n",
       "1   Dec 18, 2009                                       Avatar   \n",
       "2   May 20, 2011  Pirates of the Caribbean: On Stranger Tides   \n",
       "3    Jun 7, 2019                                 Dark Phoenix   \n",
       "4    May 1, 2015                      Avengers: Age of Ultron   \n",
       "5   Dec 15, 2017            Star Wars Ep. VIII: The Last Jedi   \n",
       "\n",
       "   production_budget domestic_gross worldwide_gross  \n",
       "id                                                   \n",
       "1       $425,000,000   $760,507,625  $2,776,345,279  \n",
       "2       $410,600,000   $241,063,875  $1,045,663,875  \n",
       "3       $350,000,000    $42,762,350    $149,762,350  \n",
       "4       $330,600,000   $459,005,868  $1,403,013,963  \n",
       "5       $317,000,000   $620,181,382  $1,316,721,747  "
      ]
     },
     "execution_count": 42,
     "metadata": {},
     "output_type": "execute_result"
    }
   ],
   "source": [
    "#To display the first few rows\n",
    "budgets.head()"
   ]
  },
  {
   "cell_type": "code",
   "execution_count": 44,
   "metadata": {},
   "outputs": [
    {
     "data": {
      "text/html": [
       "<div>\n",
       "<style scoped>\n",
       "    .dataframe tbody tr th:only-of-type {\n",
       "        vertical-align: middle;\n",
       "    }\n",
       "\n",
       "    .dataframe tbody tr th {\n",
       "        vertical-align: top;\n",
       "    }\n",
       "\n",
       "    .dataframe thead th {\n",
       "        text-align: right;\n",
       "    }\n",
       "</style>\n",
       "<table border=\"1\" class=\"dataframe\">\n",
       "  <thead>\n",
       "    <tr style=\"text-align: right;\">\n",
       "      <th></th>\n",
       "      <th>release_date</th>\n",
       "      <th>movie</th>\n",
       "      <th>production_budget</th>\n",
       "      <th>domestic_gross</th>\n",
       "      <th>worldwide_gross</th>\n",
       "    </tr>\n",
       "    <tr>\n",
       "      <th>id</th>\n",
       "      <th></th>\n",
       "      <th></th>\n",
       "      <th></th>\n",
       "      <th></th>\n",
       "      <th></th>\n",
       "    </tr>\n",
       "  </thead>\n",
       "  <tbody>\n",
       "    <tr>\n",
       "      <th>78</th>\n",
       "      <td>Dec 31, 2018</td>\n",
       "      <td>Red 11</td>\n",
       "      <td>$7,000</td>\n",
       "      <td>$0</td>\n",
       "      <td>$0</td>\n",
       "    </tr>\n",
       "    <tr>\n",
       "      <th>79</th>\n",
       "      <td>Apr 2, 1999</td>\n",
       "      <td>Following</td>\n",
       "      <td>$6,000</td>\n",
       "      <td>$48,482</td>\n",
       "      <td>$240,495</td>\n",
       "    </tr>\n",
       "    <tr>\n",
       "      <th>80</th>\n",
       "      <td>Jul 13, 2005</td>\n",
       "      <td>Return to the Land of Wonders</td>\n",
       "      <td>$5,000</td>\n",
       "      <td>$1,338</td>\n",
       "      <td>$1,338</td>\n",
       "    </tr>\n",
       "    <tr>\n",
       "      <th>81</th>\n",
       "      <td>Sep 29, 2015</td>\n",
       "      <td>A Plague So Pleasant</td>\n",
       "      <td>$1,400</td>\n",
       "      <td>$0</td>\n",
       "      <td>$0</td>\n",
       "    </tr>\n",
       "    <tr>\n",
       "      <th>82</th>\n",
       "      <td>Aug 5, 2005</td>\n",
       "      <td>My Date With Drew</td>\n",
       "      <td>$1,100</td>\n",
       "      <td>$181,041</td>\n",
       "      <td>$181,041</td>\n",
       "    </tr>\n",
       "  </tbody>\n",
       "</table>\n",
       "</div>"
      ],
      "text/plain": [
       "    release_date                          movie production_budget  \\\n",
       "id                                                                  \n",
       "78  Dec 31, 2018                         Red 11            $7,000   \n",
       "79   Apr 2, 1999                      Following            $6,000   \n",
       "80  Jul 13, 2005  Return to the Land of Wonders            $5,000   \n",
       "81  Sep 29, 2015           A Plague So Pleasant            $1,400   \n",
       "82   Aug 5, 2005              My Date With Drew            $1,100   \n",
       "\n",
       "   domestic_gross worldwide_gross  \n",
       "id                                 \n",
       "78             $0              $0  \n",
       "79        $48,482        $240,495  \n",
       "80         $1,338          $1,338  \n",
       "81             $0              $0  \n",
       "82       $181,041        $181,041  "
      ]
     },
     "execution_count": 44,
     "metadata": {},
     "output_type": "execute_result"
    }
   ],
   "source": [
    "#To display the last few rows\n",
    "budgets.tail()"
   ]
  },
  {
   "cell_type": "code",
   "execution_count": 45,
   "metadata": {},
   "outputs": [
    {
     "name": "stdout",
     "output_type": "stream",
     "text": [
      "<class 'pandas.core.frame.DataFrame'>\n",
      "Int64Index: 5782 entries, 1 to 82\n",
      "Data columns (total 5 columns):\n",
      " #   Column             Non-Null Count  Dtype \n",
      "---  ------             --------------  ----- \n",
      " 0   release_date       5782 non-null   object\n",
      " 1   movie              5782 non-null   object\n",
      " 2   production_budget  5782 non-null   object\n",
      " 3   domestic_gross     5782 non-null   object\n",
      " 4   worldwide_gross    5782 non-null   object\n",
      "dtypes: object(5)\n",
      "memory usage: 271.0+ KB\n"
     ]
    }
   ],
   "source": [
    "#To get the information summary on the table\n",
    "# we see some of the columns have null entries, data types of the columns.\n",
    "\n",
    "budgets.info()"
   ]
  },
  {
   "cell_type": "code",
   "execution_count": 46,
   "metadata": {},
   "outputs": [
    {
     "data": {
      "text/plain": [
       "(5782, 5)"
      ]
     },
     "execution_count": 46,
     "metadata": {},
     "output_type": "execute_result"
    }
   ],
   "source": [
    "#Check the number of rows and columns\n",
    "#There are 5 columns and 5782 rows\n",
    "budgets.shape"
   ]
  },
  {
   "cell_type": "code",
   "execution_count": 47,
   "metadata": {},
   "outputs": [
    {
     "data": {
      "text/html": [
       "<div>\n",
       "<style scoped>\n",
       "    .dataframe tbody tr th:only-of-type {\n",
       "        vertical-align: middle;\n",
       "    }\n",
       "\n",
       "    .dataframe tbody tr th {\n",
       "        vertical-align: top;\n",
       "    }\n",
       "\n",
       "    .dataframe thead th {\n",
       "        text-align: right;\n",
       "    }\n",
       "</style>\n",
       "<table border=\"1\" class=\"dataframe\">\n",
       "  <thead>\n",
       "    <tr style=\"text-align: right;\">\n",
       "      <th></th>\n",
       "      <th>release_date</th>\n",
       "      <th>movie</th>\n",
       "      <th>production_budget</th>\n",
       "      <th>domestic_gross</th>\n",
       "      <th>worldwide_gross</th>\n",
       "    </tr>\n",
       "  </thead>\n",
       "  <tbody>\n",
       "    <tr>\n",
       "      <th>count</th>\n",
       "      <td>5782</td>\n",
       "      <td>5782</td>\n",
       "      <td>5782</td>\n",
       "      <td>5782</td>\n",
       "      <td>5782</td>\n",
       "    </tr>\n",
       "    <tr>\n",
       "      <th>unique</th>\n",
       "      <td>2418</td>\n",
       "      <td>5698</td>\n",
       "      <td>509</td>\n",
       "      <td>5164</td>\n",
       "      <td>5356</td>\n",
       "    </tr>\n",
       "    <tr>\n",
       "      <th>top</th>\n",
       "      <td>Dec 31, 2014</td>\n",
       "      <td>Halloween</td>\n",
       "      <td>$20,000,000</td>\n",
       "      <td>$0</td>\n",
       "      <td>$0</td>\n",
       "    </tr>\n",
       "    <tr>\n",
       "      <th>freq</th>\n",
       "      <td>24</td>\n",
       "      <td>3</td>\n",
       "      <td>231</td>\n",
       "      <td>548</td>\n",
       "      <td>367</td>\n",
       "    </tr>\n",
       "  </tbody>\n",
       "</table>\n",
       "</div>"
      ],
      "text/plain": [
       "        release_date      movie production_budget domestic_gross  \\\n",
       "count           5782       5782              5782           5782   \n",
       "unique          2418       5698               509           5164   \n",
       "top     Dec 31, 2014  Halloween       $20,000,000             $0   \n",
       "freq              24          3               231            548   \n",
       "\n",
       "       worldwide_gross  \n",
       "count             5782  \n",
       "unique            5356  \n",
       "top                 $0  \n",
       "freq               367  "
      ]
     },
     "execution_count": 47,
     "metadata": {},
     "output_type": "execute_result"
    }
   ],
   "source": [
    "#Gettings a summary of the numeric columns\n",
    "budgets.describe()"
   ]
  },
  {
   "cell_type": "code",
   "execution_count": 48,
   "metadata": {},
   "outputs": [
    {
     "data": {
      "text/plain": [
       "release_date         0\n",
       "movie                0\n",
       "production_budget    0\n",
       "domestic_gross       0\n",
       "worldwide_gross      0\n",
       "dtype: int64"
      ]
     },
     "execution_count": 48,
     "metadata": {},
     "output_type": "execute_result"
    }
   ],
   "source": [
    "#To check null values\n",
    "budgets.isna().sum()"
   ]
  },
  {
   "cell_type": "code",
   "execution_count": 49,
   "metadata": {},
   "outputs": [
    {
     "data": {
      "text/plain": [
       "0"
      ]
     },
     "execution_count": 49,
     "metadata": {},
     "output_type": "execute_result"
    }
   ],
   "source": [
    "# To check Duplicates\n",
    "budgets.duplicated().sum()"
   ]
  },
  {
   "cell_type": "code",
   "execution_count": 50,
   "metadata": {},
   "outputs": [],
   "source": [
    "# sorting the data in ascending order inorder to test for outliers.\n",
    "budget_production_budget = budgets.sort_values(by ='production_budget',ascending = True)"
   ]
  },
  {
   "cell_type": "code",
   "execution_count": 51,
   "metadata": {},
   "outputs": [
    {
     "name": "stdout",
     "output_type": "stream",
     "text": [
      "Index(['release_date', 'movie', 'production_budget', 'domestic_gross',\n",
      "       'worldwide_gross'],\n",
      "      dtype='object')\n"
     ]
    }
   ],
   "source": [
    "print(budgets.columns)"
   ]
  },
  {
   "cell_type": "code",
   "execution_count": 52,
   "metadata": {},
   "outputs": [],
   "source": [
    "# Making a copy of the dataframe to use it avoid making permanent changes to the original\n",
    "budgets_copy = budgets.copy()"
   ]
  },
  {
   "cell_type": "markdown",
   "metadata": {},
   "source": [
    "DATA ISSUES"
   ]
  },
  {
   "cell_type": "markdown",
   "metadata": {},
   "source": [
    "1.Datasets in Separate dataframes\n",
    "\n",
    "2.Missings Data\n",
    "\n",
    "4.Duplicates"
   ]
  },
  {
   "cell_type": "markdown",
   "metadata": {},
   "source": [
    "## DATA CLEANING"
   ]
  },
  {
   "cell_type": "code",
   "execution_count": 53,
   "metadata": {
    "scrolled": true
   },
   "outputs": [
    {
     "data": {
      "text/html": [
       "<div>\n",
       "<style scoped>\n",
       "    .dataframe tbody tr th:only-of-type {\n",
       "        vertical-align: middle;\n",
       "    }\n",
       "\n",
       "    .dataframe tbody tr th {\n",
       "        vertical-align: top;\n",
       "    }\n",
       "\n",
       "    .dataframe thead th {\n",
       "        text-align: right;\n",
       "    }\n",
       "</style>\n",
       "<table border=\"1\" class=\"dataframe\">\n",
       "  <thead>\n",
       "    <tr style=\"text-align: right;\">\n",
       "      <th></th>\n",
       "      <th>movie_id</th>\n",
       "      <th>primary_title</th>\n",
       "      <th>original_title</th>\n",
       "      <th>start_year</th>\n",
       "      <th>runtime_minutes</th>\n",
       "      <th>genres</th>\n",
       "      <th>averagerating</th>\n",
       "      <th>numvotes</th>\n",
       "    </tr>\n",
       "  </thead>\n",
       "  <tbody>\n",
       "    <tr>\n",
       "      <th>0</th>\n",
       "      <td>tt10356526</td>\n",
       "      <td>Laiye Je Yaarian</td>\n",
       "      <td>Laiye Je Yaarian</td>\n",
       "      <td>2019</td>\n",
       "      <td>117.0</td>\n",
       "      <td>Romance</td>\n",
       "      <td>8.3</td>\n",
       "      <td>31</td>\n",
       "    </tr>\n",
       "    <tr>\n",
       "      <th>1</th>\n",
       "      <td>tt10384606</td>\n",
       "      <td>Borderless</td>\n",
       "      <td>Borderless</td>\n",
       "      <td>2019</td>\n",
       "      <td>87.0</td>\n",
       "      <td>Documentary</td>\n",
       "      <td>8.9</td>\n",
       "      <td>559</td>\n",
       "    </tr>\n",
       "    <tr>\n",
       "      <th>2</th>\n",
       "      <td>tt1042974</td>\n",
       "      <td>Just Inès</td>\n",
       "      <td>Just Inès</td>\n",
       "      <td>2010</td>\n",
       "      <td>90.0</td>\n",
       "      <td>Drama</td>\n",
       "      <td>6.4</td>\n",
       "      <td>20</td>\n",
       "    </tr>\n",
       "    <tr>\n",
       "      <th>3</th>\n",
       "      <td>tt1043726</td>\n",
       "      <td>The Legend of Hercules</td>\n",
       "      <td>The Legend of Hercules</td>\n",
       "      <td>2014</td>\n",
       "      <td>99.0</td>\n",
       "      <td>Action,Adventure,Fantasy</td>\n",
       "      <td>4.2</td>\n",
       "      <td>50352</td>\n",
       "    </tr>\n",
       "    <tr>\n",
       "      <th>4</th>\n",
       "      <td>tt1060240</td>\n",
       "      <td>Até Onde?</td>\n",
       "      <td>Até Onde?</td>\n",
       "      <td>2011</td>\n",
       "      <td>73.0</td>\n",
       "      <td>Mystery,Thriller</td>\n",
       "      <td>6.5</td>\n",
       "      <td>21</td>\n",
       "    </tr>\n",
       "  </tbody>\n",
       "</table>\n",
       "</div>"
      ],
      "text/plain": [
       "     movie_id           primary_title          original_title  start_year  \\\n",
       "0  tt10356526        Laiye Je Yaarian        Laiye Je Yaarian        2019   \n",
       "1  tt10384606              Borderless              Borderless        2019   \n",
       "2   tt1042974               Just Inès               Just Inès        2010   \n",
       "3   tt1043726  The Legend of Hercules  The Legend of Hercules        2014   \n",
       "4   tt1060240               Até Onde?               Até Onde?        2011   \n",
       "\n",
       "   runtime_minutes                    genres  averagerating  numvotes  \n",
       "0            117.0                   Romance            8.3        31  \n",
       "1             87.0               Documentary            8.9       559  \n",
       "2             90.0                     Drama            6.4        20  \n",
       "3             99.0  Action,Adventure,Fantasy            4.2     50352  \n",
       "4             73.0          Mystery,Thriller            6.5        21  "
      ]
     },
     "execution_count": 53,
     "metadata": {},
     "output_type": "execute_result"
    }
   ],
   "source": [
    "# joining basics_copy and ratings_copy so that it retains only the movies/series that have a rating and votecount\n",
    "new_df = basics_copy.merge(ratings_copy, on='movie_id',how='right')\n",
    "\n",
    "new_df.head()"
   ]
  },
  {
   "cell_type": "code",
   "execution_count": 54,
   "metadata": {},
   "outputs": [
    {
     "name": "stdout",
     "output_type": "stream",
     "text": [
      "<class 'pandas.core.frame.DataFrame'>\n",
      "Int64Index: 73856 entries, 0 to 73855\n",
      "Data columns (total 8 columns):\n",
      " #   Column           Non-Null Count  Dtype  \n",
      "---  ------           --------------  -----  \n",
      " 0   movie_id         73856 non-null  object \n",
      " 1   primary_title    73856 non-null  object \n",
      " 2   original_title   73856 non-null  object \n",
      " 3   start_year       73856 non-null  int64  \n",
      " 4   runtime_minutes  66236 non-null  float64\n",
      " 5   genres           73052 non-null  object \n",
      " 6   averagerating    73856 non-null  float64\n",
      " 7   numvotes         73856 non-null  int64  \n",
      "dtypes: float64(2), int64(2), object(4)\n",
      "memory usage: 5.1+ MB\n"
     ]
    }
   ],
   "source": [
    "#To get a summary of the combined datasets\n",
    "new_df.info()"
   ]
  },
  {
   "cell_type": "code",
   "execution_count": 55,
   "metadata": {},
   "outputs": [
    {
     "data": {
      "text/plain": [
       "(73856, 8)"
      ]
     },
     "execution_count": 55,
     "metadata": {},
     "output_type": "execute_result"
    }
   ],
   "source": [
    "#Notice the columns have been combined and number of rows from the ratings have remained constant\n",
    "new_df.shape"
   ]
  },
  {
   "cell_type": "code",
   "execution_count": 56,
   "metadata": {},
   "outputs": [],
   "source": [
    "#Renaming the column primary_title to title to allow for us to work with a aprimary key since they have similar data.\n",
    "new_df.rename(columns = {'primary_title':'title'}, inplace = True)"
   ]
  },
  {
   "cell_type": "code",
   "execution_count": 57,
   "metadata": {},
   "outputs": [
    {
     "name": "stdout",
     "output_type": "stream",
     "text": [
      "<class 'pandas.core.frame.DataFrame'>\n",
      "Int64Index: 73856 entries, 0 to 73855\n",
      "Data columns (total 8 columns):\n",
      " #   Column           Non-Null Count  Dtype  \n",
      "---  ------           --------------  -----  \n",
      " 0   movie_id         73856 non-null  object \n",
      " 1   title            73856 non-null  object \n",
      " 2   original_title   73856 non-null  object \n",
      " 3   start_year       73856 non-null  int64  \n",
      " 4   runtime_minutes  66236 non-null  float64\n",
      " 5   genres           73052 non-null  object \n",
      " 6   averagerating    73856 non-null  float64\n",
      " 7   numvotes         73856 non-null  int64  \n",
      "dtypes: float64(2), int64(2), object(4)\n",
      "memory usage: 5.1+ MB\n"
     ]
    }
   ],
   "source": [
    "#confirming the renaming \n",
    "new_df.info()"
   ]
  },
  {
   "cell_type": "code",
   "execution_count": 58,
   "metadata": {},
   "outputs": [
    {
     "data": {
      "text/html": [
       "<div>\n",
       "<style scoped>\n",
       "    .dataframe tbody tr th:only-of-type {\n",
       "        vertical-align: middle;\n",
       "    }\n",
       "\n",
       "    .dataframe tbody tr th {\n",
       "        vertical-align: top;\n",
       "    }\n",
       "\n",
       "    .dataframe thead th {\n",
       "        text-align: right;\n",
       "    }\n",
       "</style>\n",
       "<table border=\"1\" class=\"dataframe\">\n",
       "  <thead>\n",
       "    <tr style=\"text-align: right;\">\n",
       "      <th></th>\n",
       "      <th>movie_id</th>\n",
       "      <th>title</th>\n",
       "      <th>original_title</th>\n",
       "      <th>start_year</th>\n",
       "      <th>runtime_minutes</th>\n",
       "      <th>genres</th>\n",
       "      <th>averagerating</th>\n",
       "      <th>numvotes</th>\n",
       "      <th>studio</th>\n",
       "      <th>domestic_gross</th>\n",
       "      <th>foreign_gross</th>\n",
       "      <th>year</th>\n",
       "    </tr>\n",
       "  </thead>\n",
       "  <tbody>\n",
       "    <tr>\n",
       "      <th>0</th>\n",
       "      <td>tt1043726</td>\n",
       "      <td>The Legend of Hercules</td>\n",
       "      <td>The Legend of Hercules</td>\n",
       "      <td>2014</td>\n",
       "      <td>99.0</td>\n",
       "      <td>Action,Adventure,Fantasy</td>\n",
       "      <td>4.2</td>\n",
       "      <td>50352</td>\n",
       "      <td>LG/S</td>\n",
       "      <td>18800000.0</td>\n",
       "      <td>42400000</td>\n",
       "      <td>2014</td>\n",
       "    </tr>\n",
       "    <tr>\n",
       "      <th>1</th>\n",
       "      <td>tt1171222</td>\n",
       "      <td>Baggage Claim</td>\n",
       "      <td>Baggage Claim</td>\n",
       "      <td>2013</td>\n",
       "      <td>96.0</td>\n",
       "      <td>Comedy</td>\n",
       "      <td>5.1</td>\n",
       "      <td>8296</td>\n",
       "      <td>FoxS</td>\n",
       "      <td>21600000.0</td>\n",
       "      <td>887000</td>\n",
       "      <td>2013</td>\n",
       "    </tr>\n",
       "    <tr>\n",
       "      <th>2</th>\n",
       "      <td>tt1181840</td>\n",
       "      <td>Jack and the Cuckoo-Clock Heart</td>\n",
       "      <td>Jack et la mécanique du coeur</td>\n",
       "      <td>2013</td>\n",
       "      <td>94.0</td>\n",
       "      <td>Adventure,Animation,Drama</td>\n",
       "      <td>7.0</td>\n",
       "      <td>5494</td>\n",
       "      <td>Shout!</td>\n",
       "      <td>NaN</td>\n",
       "      <td>3400000</td>\n",
       "      <td>2014</td>\n",
       "    </tr>\n",
       "    <tr>\n",
       "      <th>3</th>\n",
       "      <td>tt1210166</td>\n",
       "      <td>Moneyball</td>\n",
       "      <td>Moneyball</td>\n",
       "      <td>2011</td>\n",
       "      <td>133.0</td>\n",
       "      <td>Biography,Drama,Sport</td>\n",
       "      <td>7.6</td>\n",
       "      <td>326657</td>\n",
       "      <td>Sony</td>\n",
       "      <td>75600000.0</td>\n",
       "      <td>34600000</td>\n",
       "      <td>2011</td>\n",
       "    </tr>\n",
       "    <tr>\n",
       "      <th>4</th>\n",
       "      <td>tt1212419</td>\n",
       "      <td>Hereafter</td>\n",
       "      <td>Hereafter</td>\n",
       "      <td>2010</td>\n",
       "      <td>129.0</td>\n",
       "      <td>Drama,Fantasy,Romance</td>\n",
       "      <td>6.5</td>\n",
       "      <td>87288</td>\n",
       "      <td>WB</td>\n",
       "      <td>32700000.0</td>\n",
       "      <td>72500000</td>\n",
       "      <td>2010</td>\n",
       "    </tr>\n",
       "  </tbody>\n",
       "</table>\n",
       "</div>"
      ],
      "text/plain": [
       "    movie_id                            title                 original_title  \\\n",
       "0  tt1043726           The Legend of Hercules         The Legend of Hercules   \n",
       "1  tt1171222                    Baggage Claim                  Baggage Claim   \n",
       "2  tt1181840  Jack and the Cuckoo-Clock Heart  Jack et la mécanique du coeur   \n",
       "3  tt1210166                        Moneyball                      Moneyball   \n",
       "4  tt1212419                        Hereafter                      Hereafter   \n",
       "\n",
       "   start_year  runtime_minutes                     genres  averagerating  \\\n",
       "0        2014             99.0   Action,Adventure,Fantasy            4.2   \n",
       "1        2013             96.0                     Comedy            5.1   \n",
       "2        2013             94.0  Adventure,Animation,Drama            7.0   \n",
       "3        2011            133.0      Biography,Drama,Sport            7.6   \n",
       "4        2010            129.0      Drama,Fantasy,Romance            6.5   \n",
       "\n",
       "   numvotes  studio  domestic_gross foreign_gross  year  \n",
       "0     50352    LG/S      18800000.0      42400000  2014  \n",
       "1      8296    FoxS      21600000.0        887000  2013  \n",
       "2      5494  Shout!             NaN       3400000  2014  \n",
       "3    326657    Sony      75600000.0      34600000  2011  \n",
       "4     87288      WB      32700000.0      72500000  2010  "
      ]
     },
     "execution_count": 58,
     "metadata": {},
     "output_type": "execute_result"
    }
   ],
   "source": [
    "# Joining the combined dataset and the gross copy\n",
    "combined_df = new_df.merge(gross_copy, on=\"title\")\n",
    "\n",
    "combined_df.head()"
   ]
  },
  {
   "cell_type": "code",
   "execution_count": 59,
   "metadata": {},
   "outputs": [
    {
     "data": {
      "text/html": [
       "<div>\n",
       "<style scoped>\n",
       "    .dataframe tbody tr th:only-of-type {\n",
       "        vertical-align: middle;\n",
       "    }\n",
       "\n",
       "    .dataframe tbody tr th {\n",
       "        vertical-align: top;\n",
       "    }\n",
       "\n",
       "    .dataframe thead th {\n",
       "        text-align: right;\n",
       "    }\n",
       "</style>\n",
       "<table border=\"1\" class=\"dataframe\">\n",
       "  <thead>\n",
       "    <tr style=\"text-align: right;\">\n",
       "      <th></th>\n",
       "      <th>movie_id</th>\n",
       "      <th>title</th>\n",
       "      <th>original_title</th>\n",
       "      <th>start_year</th>\n",
       "      <th>runtime_minutes</th>\n",
       "      <th>genres</th>\n",
       "      <th>averagerating</th>\n",
       "      <th>numvotes</th>\n",
       "      <th>studio</th>\n",
       "      <th>domestic_gross</th>\n",
       "      <th>foreign_gross</th>\n",
       "      <th>year</th>\n",
       "    </tr>\n",
       "  </thead>\n",
       "  <tbody>\n",
       "    <tr>\n",
       "      <th>3022</th>\n",
       "      <td>tt3399916</td>\n",
       "      <td>The Dead Lands</td>\n",
       "      <td>The Dead Lands</td>\n",
       "      <td>2014</td>\n",
       "      <td>107.0</td>\n",
       "      <td>Action,Adventure</td>\n",
       "      <td>6.3</td>\n",
       "      <td>4185</td>\n",
       "      <td>Magn.</td>\n",
       "      <td>5200.0</td>\n",
       "      <td>NaN</td>\n",
       "      <td>2015</td>\n",
       "    </tr>\n",
       "    <tr>\n",
       "      <th>3023</th>\n",
       "      <td>tt3616916</td>\n",
       "      <td>The Wave</td>\n",
       "      <td>Bølgen</td>\n",
       "      <td>2015</td>\n",
       "      <td>105.0</td>\n",
       "      <td>Action,Drama,Thriller</td>\n",
       "      <td>6.7</td>\n",
       "      <td>28167</td>\n",
       "      <td>Magn.</td>\n",
       "      <td>177000.0</td>\n",
       "      <td>NaN</td>\n",
       "      <td>2016</td>\n",
       "    </tr>\n",
       "    <tr>\n",
       "      <th>3024</th>\n",
       "      <td>tt3748512</td>\n",
       "      <td>Hitchcock/Truffaut</td>\n",
       "      <td>Hitchcock/Truffaut</td>\n",
       "      <td>2015</td>\n",
       "      <td>79.0</td>\n",
       "      <td>Documentary</td>\n",
       "      <td>7.4</td>\n",
       "      <td>4977</td>\n",
       "      <td>Cohen</td>\n",
       "      <td>260000.0</td>\n",
       "      <td>NaN</td>\n",
       "      <td>2015</td>\n",
       "    </tr>\n",
       "    <tr>\n",
       "      <th>3025</th>\n",
       "      <td>tt7008872</td>\n",
       "      <td>Boy Erased</td>\n",
       "      <td>Boy Erased</td>\n",
       "      <td>2018</td>\n",
       "      <td>115.0</td>\n",
       "      <td>Biography,Drama</td>\n",
       "      <td>7.0</td>\n",
       "      <td>18768</td>\n",
       "      <td>Focus</td>\n",
       "      <td>6800000.0</td>\n",
       "      <td>5000000</td>\n",
       "      <td>2018</td>\n",
       "    </tr>\n",
       "    <tr>\n",
       "      <th>3026</th>\n",
       "      <td>tt7048622</td>\n",
       "      <td>The Insult</td>\n",
       "      <td>L'insulte</td>\n",
       "      <td>2017</td>\n",
       "      <td>113.0</td>\n",
       "      <td>Crime,Drama,Thriller</td>\n",
       "      <td>7.7</td>\n",
       "      <td>11168</td>\n",
       "      <td>Cohen</td>\n",
       "      <td>1000000.0</td>\n",
       "      <td>NaN</td>\n",
       "      <td>2018</td>\n",
       "    </tr>\n",
       "  </tbody>\n",
       "</table>\n",
       "</div>"
      ],
      "text/plain": [
       "       movie_id               title      original_title  start_year  \\\n",
       "3022  tt3399916      The Dead Lands      The Dead Lands        2014   \n",
       "3023  tt3616916            The Wave              Bølgen        2015   \n",
       "3024  tt3748512  Hitchcock/Truffaut  Hitchcock/Truffaut        2015   \n",
       "3025  tt7008872          Boy Erased          Boy Erased        2018   \n",
       "3026  tt7048622          The Insult           L'insulte        2017   \n",
       "\n",
       "      runtime_minutes                 genres  averagerating  numvotes studio  \\\n",
       "3022            107.0       Action,Adventure            6.3      4185  Magn.   \n",
       "3023            105.0  Action,Drama,Thriller            6.7     28167  Magn.   \n",
       "3024             79.0            Documentary            7.4      4977  Cohen   \n",
       "3025            115.0        Biography,Drama            7.0     18768  Focus   \n",
       "3026            113.0   Crime,Drama,Thriller            7.7     11168  Cohen   \n",
       "\n",
       "      domestic_gross foreign_gross  year  \n",
       "3022          5200.0           NaN  2015  \n",
       "3023        177000.0           NaN  2016  \n",
       "3024        260000.0           NaN  2015  \n",
       "3025       6800000.0       5000000  2018  \n",
       "3026       1000000.0           NaN  2018  "
      ]
     },
     "execution_count": 59,
     "metadata": {},
     "output_type": "execute_result"
    }
   ],
   "source": [
    "# Working with the combined data onwards\n",
    "\n",
    "#To display the last few rows from the table\n",
    "combined_df.tail()"
   ]
  },
  {
   "cell_type": "code",
   "execution_count": 60,
   "metadata": {},
   "outputs": [
    {
     "name": "stdout",
     "output_type": "stream",
     "text": [
      "<class 'pandas.core.frame.DataFrame'>\n",
      "Int64Index: 3027 entries, 0 to 3026\n",
      "Data columns (total 12 columns):\n",
      " #   Column           Non-Null Count  Dtype  \n",
      "---  ------           --------------  -----  \n",
      " 0   movie_id         3027 non-null   object \n",
      " 1   title            3027 non-null   object \n",
      " 2   original_title   3027 non-null   object \n",
      " 3   start_year       3027 non-null   int64  \n",
      " 4   runtime_minutes  2980 non-null   float64\n",
      " 5   genres           3020 non-null   object \n",
      " 6   averagerating    3027 non-null   float64\n",
      " 7   numvotes         3027 non-null   int64  \n",
      " 8   studio           3024 non-null   object \n",
      " 9   domestic_gross   3005 non-null   float64\n",
      " 10  foreign_gross    1832 non-null   object \n",
      " 11  year             3027 non-null   int64  \n",
      "dtypes: float64(3), int64(3), object(6)\n",
      "memory usage: 307.4+ KB\n"
     ]
    }
   ],
   "source": [
    "#To check the summary of the table\n",
    "combined_df.info()"
   ]
  },
  {
   "cell_type": "code",
   "execution_count": 61,
   "metadata": {},
   "outputs": [
    {
     "data": {
      "text/plain": [
       "(3027, 12)"
      ]
     },
     "execution_count": 61,
     "metadata": {},
     "output_type": "execute_result"
    }
   ],
   "source": [
    "#To check the number of rows and columns\n",
    "combined_df.shape"
   ]
  },
  {
   "cell_type": "code",
   "execution_count": 62,
   "metadata": {},
   "outputs": [
    {
     "data": {
      "text/html": [
       "<div>\n",
       "<style scoped>\n",
       "    .dataframe tbody tr th:only-of-type {\n",
       "        vertical-align: middle;\n",
       "    }\n",
       "\n",
       "    .dataframe tbody tr th {\n",
       "        vertical-align: top;\n",
       "    }\n",
       "\n",
       "    .dataframe thead th {\n",
       "        text-align: right;\n",
       "    }\n",
       "</style>\n",
       "<table border=\"1\" class=\"dataframe\">\n",
       "  <thead>\n",
       "    <tr style=\"text-align: right;\">\n",
       "      <th></th>\n",
       "      <th>start_year</th>\n",
       "      <th>runtime_minutes</th>\n",
       "      <th>averagerating</th>\n",
       "      <th>numvotes</th>\n",
       "      <th>domestic_gross</th>\n",
       "      <th>year</th>\n",
       "    </tr>\n",
       "  </thead>\n",
       "  <tbody>\n",
       "    <tr>\n",
       "      <th>count</th>\n",
       "      <td>3027.000000</td>\n",
       "      <td>2980.000000</td>\n",
       "      <td>3027.000000</td>\n",
       "      <td>3.027000e+03</td>\n",
       "      <td>3.005000e+03</td>\n",
       "      <td>3027.000000</td>\n",
       "    </tr>\n",
       "    <tr>\n",
       "      <th>mean</th>\n",
       "      <td>2013.783284</td>\n",
       "      <td>107.217114</td>\n",
       "      <td>6.457582</td>\n",
       "      <td>6.170030e+04</td>\n",
       "      <td>3.064033e+07</td>\n",
       "      <td>2014.077635</td>\n",
       "    </tr>\n",
       "    <tr>\n",
       "      <th>std</th>\n",
       "      <td>2.466955</td>\n",
       "      <td>20.073886</td>\n",
       "      <td>1.012277</td>\n",
       "      <td>1.255132e+05</td>\n",
       "      <td>6.671629e+07</td>\n",
       "      <td>2.442245</td>\n",
       "    </tr>\n",
       "    <tr>\n",
       "      <th>min</th>\n",
       "      <td>2010.000000</td>\n",
       "      <td>3.000000</td>\n",
       "      <td>1.600000</td>\n",
       "      <td>5.000000e+00</td>\n",
       "      <td>1.000000e+02</td>\n",
       "      <td>2010.000000</td>\n",
       "    </tr>\n",
       "    <tr>\n",
       "      <th>25%</th>\n",
       "      <td>2012.000000</td>\n",
       "      <td>94.000000</td>\n",
       "      <td>5.900000</td>\n",
       "      <td>2.117000e+03</td>\n",
       "      <td>1.390000e+05</td>\n",
       "      <td>2012.000000</td>\n",
       "    </tr>\n",
       "    <tr>\n",
       "      <th>50%</th>\n",
       "      <td>2014.000000</td>\n",
       "      <td>105.000000</td>\n",
       "      <td>6.600000</td>\n",
       "      <td>1.310900e+04</td>\n",
       "      <td>2.000000e+06</td>\n",
       "      <td>2014.000000</td>\n",
       "    </tr>\n",
       "    <tr>\n",
       "      <th>75%</th>\n",
       "      <td>2016.000000</td>\n",
       "      <td>118.000000</td>\n",
       "      <td>7.100000</td>\n",
       "      <td>6.276550e+04</td>\n",
       "      <td>3.250000e+07</td>\n",
       "      <td>2016.000000</td>\n",
       "    </tr>\n",
       "    <tr>\n",
       "      <th>max</th>\n",
       "      <td>2019.000000</td>\n",
       "      <td>272.000000</td>\n",
       "      <td>9.200000</td>\n",
       "      <td>1.841066e+06</td>\n",
       "      <td>7.001000e+08</td>\n",
       "      <td>2018.000000</td>\n",
       "    </tr>\n",
       "  </tbody>\n",
       "</table>\n",
       "</div>"
      ],
      "text/plain": [
       "        start_year  runtime_minutes  averagerating      numvotes  \\\n",
       "count  3027.000000      2980.000000    3027.000000  3.027000e+03   \n",
       "mean   2013.783284       107.217114       6.457582  6.170030e+04   \n",
       "std       2.466955        20.073886       1.012277  1.255132e+05   \n",
       "min    2010.000000         3.000000       1.600000  5.000000e+00   \n",
       "25%    2012.000000        94.000000       5.900000  2.117000e+03   \n",
       "50%    2014.000000       105.000000       6.600000  1.310900e+04   \n",
       "75%    2016.000000       118.000000       7.100000  6.276550e+04   \n",
       "max    2019.000000       272.000000       9.200000  1.841066e+06   \n",
       "\n",
       "       domestic_gross         year  \n",
       "count    3.005000e+03  3027.000000  \n",
       "mean     3.064033e+07  2014.077635  \n",
       "std      6.671629e+07     2.442245  \n",
       "min      1.000000e+02  2010.000000  \n",
       "25%      1.390000e+05  2012.000000  \n",
       "50%      2.000000e+06  2014.000000  \n",
       "75%      3.250000e+07  2016.000000  \n",
       "max      7.001000e+08  2018.000000  "
      ]
     },
     "execution_count": 62,
     "metadata": {},
     "output_type": "execute_result"
    }
   ],
   "source": [
    "# To check the summary of the numeric columns\n",
    "combined_df.describe()"
   ]
  },
  {
   "cell_type": "code",
   "execution_count": 63,
   "metadata": {},
   "outputs": [
    {
     "data": {
      "text/plain": [
       "0"
      ]
     },
     "execution_count": 63,
     "metadata": {},
     "output_type": "execute_result"
    }
   ],
   "source": [
    "#Checking duplicated data\n",
    "# no duplicates,combining the datasets automatically eliminated the duplicated data from the individual dataset inspection.\n",
    "combined_df.duplicated().sum()"
   ]
  },
  {
   "cell_type": "code",
   "execution_count": 64,
   "metadata": {},
   "outputs": [
    {
     "data": {
      "text/plain": [
       "movie_id              0\n",
       "title                 0\n",
       "original_title        0\n",
       "start_year            0\n",
       "runtime_minutes      47\n",
       "genres                7\n",
       "averagerating         0\n",
       "numvotes              0\n",
       "studio                3\n",
       "domestic_gross       22\n",
       "foreign_gross      1195\n",
       "year                  0\n",
       "dtype: int64"
      ]
     },
     "execution_count": 64,
     "metadata": {},
     "output_type": "execute_result"
    }
   ],
   "source": [
    "#To check null values\n",
    "combined_df.isna().sum()"
   ]
  },
  {
   "cell_type": "code",
   "execution_count": 65,
   "metadata": {},
   "outputs": [],
   "source": [
    "# drop any rows with missing values in the 'runtime_minutes' or 'genres' columns\n",
    "combined_df = combined_df.dropna(subset=['runtime_minutes' ,'genres', 'domestic_gross'])"
   ]
  },
  {
   "cell_type": "code",
   "execution_count": 66,
   "metadata": {},
   "outputs": [
    {
     "data": {
      "text/plain": [
       "movie_id              0\n",
       "title                 0\n",
       "original_title        0\n",
       "start_year            0\n",
       "runtime_minutes       0\n",
       "genres                0\n",
       "averagerating         0\n",
       "numvotes              0\n",
       "studio                1\n",
       "domestic_gross        0\n",
       "foreign_gross      1186\n",
       "year                  0\n",
       "dtype: int64"
      ]
     },
     "execution_count": 66,
     "metadata": {},
     "output_type": "execute_result"
    }
   ],
   "source": [
    "#To check null values\n",
    "combined_df.isna().sum()"
   ]
  },
  {
   "cell_type": "code",
   "execution_count": 73,
   "metadata": {},
   "outputs": [
    {
     "name": "stdout",
     "output_type": "stream",
     "text": [
      "float64\n"
     ]
    }
   ],
   "source": [
    "# Check the data type of the 'foreign_gross' column\n",
    "print(combined_df['foreign_gross'].dtype)"
   ]
  },
  {
   "cell_type": "code",
   "execution_count": 78,
   "metadata": {},
   "outputs": [],
   "source": [
    "# Convert the 'foreign_gross' column to string type\n",
    "combined_df['foreign_gross'] = combined_df['foreign_gross'].astype(str)\n",
    "\n",
    "# Use the .str accessor on the 'foreign_gross' column\n",
    "combined_df['foreign_gross'] = combined_df['foreign_gross'].str.replace(',', '').astype(float)"
   ]
  },
  {
   "cell_type": "code",
   "execution_count": 79,
   "metadata": {},
   "outputs": [],
   "source": [
    "# replace missing values in the 'foreign_gross' column with the median\n",
    "median_foreign_gross = combined_df['foreign_gross'].median()\n",
    "combined_df['foreign_gross'] = combined_df['foreign_gross'].fillna(median_foreign_gross)"
   ]
  },
  {
   "cell_type": "code",
   "execution_count": 80,
   "metadata": {},
   "outputs": [
    {
     "name": "stdout",
     "output_type": "stream",
     "text": [
      "<class 'str'>\n"
     ]
    }
   ],
   "source": [
    "#To check for the data type\n",
    "print(type(\"combined_df\"))"
   ]
  },
  {
   "cell_type": "code",
   "execution_count": 81,
   "metadata": {},
   "outputs": [
    {
     "data": {
      "text/plain": [
       "movie_id           0\n",
       "title              0\n",
       "original_title     0\n",
       "start_year         0\n",
       "runtime_minutes    0\n",
       "genres             0\n",
       "averagerating      0\n",
       "numvotes           0\n",
       "studio             1\n",
       "domestic_gross     0\n",
       "foreign_gross      0\n",
       "year               0\n",
       "dtype: int64"
      ]
     },
     "execution_count": 81,
     "metadata": {},
     "output_type": "execute_result"
    }
   ],
   "source": [
    "#To check null values\n",
    "combined_df.isna().sum()"
   ]
  },
  {
   "cell_type": "code",
   "execution_count": 82,
   "metadata": {},
   "outputs": [
    {
     "data": {
      "text/html": [
       "<div>\n",
       "<style scoped>\n",
       "    .dataframe tbody tr th:only-of-type {\n",
       "        vertical-align: middle;\n",
       "    }\n",
       "\n",
       "    .dataframe tbody tr th {\n",
       "        vertical-align: top;\n",
       "    }\n",
       "\n",
       "    .dataframe thead th {\n",
       "        text-align: right;\n",
       "    }\n",
       "</style>\n",
       "<table border=\"1\" class=\"dataframe\">\n",
       "  <thead>\n",
       "    <tr style=\"text-align: right;\">\n",
       "      <th></th>\n",
       "      <th>title</th>\n",
       "      <th>genres</th>\n",
       "      <th>averagerating</th>\n",
       "      <th>domestic_gross</th>\n",
       "      <th>foreign_gross</th>\n",
       "      <th>year</th>\n",
       "    </tr>\n",
       "  </thead>\n",
       "  <tbody>\n",
       "    <tr>\n",
       "      <th>0</th>\n",
       "      <td>The Legend of Hercules</td>\n",
       "      <td>Action,Adventure,Fantasy</td>\n",
       "      <td>4.2</td>\n",
       "      <td>18800000.0</td>\n",
       "      <td>42400000.0</td>\n",
       "      <td>2014</td>\n",
       "    </tr>\n",
       "    <tr>\n",
       "      <th>1</th>\n",
       "      <td>Baggage Claim</td>\n",
       "      <td>Comedy</td>\n",
       "      <td>5.1</td>\n",
       "      <td>21600000.0</td>\n",
       "      <td>887000.0</td>\n",
       "      <td>2013</td>\n",
       "    </tr>\n",
       "    <tr>\n",
       "      <th>3</th>\n",
       "      <td>Moneyball</td>\n",
       "      <td>Biography,Drama,Sport</td>\n",
       "      <td>7.6</td>\n",
       "      <td>75600000.0</td>\n",
       "      <td>34600000.0</td>\n",
       "      <td>2011</td>\n",
       "    </tr>\n",
       "    <tr>\n",
       "      <th>4</th>\n",
       "      <td>Hereafter</td>\n",
       "      <td>Drama,Fantasy,Romance</td>\n",
       "      <td>6.5</td>\n",
       "      <td>32700000.0</td>\n",
       "      <td>72500000.0</td>\n",
       "      <td>2010</td>\n",
       "    </tr>\n",
       "    <tr>\n",
       "      <th>5</th>\n",
       "      <td>Mission: Impossible - Ghost Protocol</td>\n",
       "      <td>Action,Adventure,Thriller</td>\n",
       "      <td>7.4</td>\n",
       "      <td>209400000.0</td>\n",
       "      <td>485300000.0</td>\n",
       "      <td>2011</td>\n",
       "    </tr>\n",
       "  </tbody>\n",
       "</table>\n",
       "</div>"
      ],
      "text/plain": [
       "                                  title                     genres  \\\n",
       "0                The Legend of Hercules   Action,Adventure,Fantasy   \n",
       "1                         Baggage Claim                     Comedy   \n",
       "3                             Moneyball      Biography,Drama,Sport   \n",
       "4                             Hereafter      Drama,Fantasy,Romance   \n",
       "5  Mission: Impossible - Ghost Protocol  Action,Adventure,Thriller   \n",
       "\n",
       "   averagerating  domestic_gross  foreign_gross  year  \n",
       "0            4.2      18800000.0     42400000.0  2014  \n",
       "1            5.1      21600000.0       887000.0  2013  \n",
       "3            7.6      75600000.0     34600000.0  2011  \n",
       "4            6.5      32700000.0     72500000.0  2010  \n",
       "5            7.4     209400000.0    485300000.0  2011  "
      ]
     },
     "execution_count": 82,
     "metadata": {},
     "output_type": "execute_result"
    }
   ],
   "source": [
    "# select only the columns that we need for analysis\n",
    "selected_df = combined_df[['title', 'genres', 'averagerating', 'domestic_gross', 'foreign_gross', 'year']]\n",
    "\n",
    "selected_df.head()"
   ]
  },
  {
   "cell_type": "code",
   "execution_count": 86,
   "metadata": {},
   "outputs": [
    {
     "name": "stdout",
     "output_type": "stream",
     "text": [
      "<class 'pandas.core.frame.DataFrame'>\n",
      "Int64Index: 2953 entries, 0 to 3026\n",
      "Data columns (total 7 columns):\n",
      " #   Column          Non-Null Count  Dtype  \n",
      "---  ------          --------------  -----  \n",
      " 0   title           2953 non-null   object \n",
      " 1   genres          2953 non-null   object \n",
      " 2   averagerating   2953 non-null   float64\n",
      " 3   domestic_gross  2953 non-null   float64\n",
      " 4   foreign_gross   2953 non-null   float64\n",
      " 5   year            2953 non-null   int64  \n",
      " 6   total_gross     2953 non-null   float64\n",
      "dtypes: float64(4), int64(1), object(2)\n",
      "memory usage: 184.6+ KB\n"
     ]
    }
   ],
   "source": [
    "#To check the summary of the table\n",
    "selected_df.info()"
   ]
  },
  {
   "cell_type": "code",
   "execution_count": 89,
   "metadata": {},
   "outputs": [
    {
     "data": {
      "text/html": [
       "<div>\n",
       "<style scoped>\n",
       "    .dataframe tbody tr th:only-of-type {\n",
       "        vertical-align: middle;\n",
       "    }\n",
       "\n",
       "    .dataframe tbody tr th {\n",
       "        vertical-align: top;\n",
       "    }\n",
       "\n",
       "    .dataframe thead th {\n",
       "        text-align: right;\n",
       "    }\n",
       "</style>\n",
       "<table border=\"1\" class=\"dataframe\">\n",
       "  <thead>\n",
       "    <tr style=\"text-align: right;\">\n",
       "      <th></th>\n",
       "      <th>title</th>\n",
       "      <th>genres</th>\n",
       "      <th>averagerating</th>\n",
       "      <th>domestic_gross</th>\n",
       "      <th>foreign_gross</th>\n",
       "      <th>year</th>\n",
       "      <th>total_gross</th>\n",
       "    </tr>\n",
       "  </thead>\n",
       "  <tbody>\n",
       "    <tr>\n",
       "      <th>0</th>\n",
       "      <td>The Legend of Hercules</td>\n",
       "      <td>Action,Adventure,Fantasy</td>\n",
       "      <td>4.2</td>\n",
       "      <td>18800000.0</td>\n",
       "      <td>42400000.0</td>\n",
       "      <td>2014</td>\n",
       "      <td>61200000.0</td>\n",
       "    </tr>\n",
       "    <tr>\n",
       "      <th>1</th>\n",
       "      <td>Baggage Claim</td>\n",
       "      <td>Comedy</td>\n",
       "      <td>5.1</td>\n",
       "      <td>21600000.0</td>\n",
       "      <td>887000.0</td>\n",
       "      <td>2013</td>\n",
       "      <td>22487000.0</td>\n",
       "    </tr>\n",
       "    <tr>\n",
       "      <th>3</th>\n",
       "      <td>Moneyball</td>\n",
       "      <td>Biography,Drama,Sport</td>\n",
       "      <td>7.6</td>\n",
       "      <td>75600000.0</td>\n",
       "      <td>34600000.0</td>\n",
       "      <td>2011</td>\n",
       "      <td>110200000.0</td>\n",
       "    </tr>\n",
       "    <tr>\n",
       "      <th>4</th>\n",
       "      <td>Hereafter</td>\n",
       "      <td>Drama,Fantasy,Romance</td>\n",
       "      <td>6.5</td>\n",
       "      <td>32700000.0</td>\n",
       "      <td>72500000.0</td>\n",
       "      <td>2010</td>\n",
       "      <td>105200000.0</td>\n",
       "    </tr>\n",
       "    <tr>\n",
       "      <th>5</th>\n",
       "      <td>Mission: Impossible - Ghost Protocol</td>\n",
       "      <td>Action,Adventure,Thriller</td>\n",
       "      <td>7.4</td>\n",
       "      <td>209400000.0</td>\n",
       "      <td>485300000.0</td>\n",
       "      <td>2011</td>\n",
       "      <td>694700000.0</td>\n",
       "    </tr>\n",
       "  </tbody>\n",
       "</table>\n",
       "</div>"
      ],
      "text/plain": [
       "                                  title                     genres  \\\n",
       "0                The Legend of Hercules   Action,Adventure,Fantasy   \n",
       "1                         Baggage Claim                     Comedy   \n",
       "3                             Moneyball      Biography,Drama,Sport   \n",
       "4                             Hereafter      Drama,Fantasy,Romance   \n",
       "5  Mission: Impossible - Ghost Protocol  Action,Adventure,Thriller   \n",
       "\n",
       "   averagerating  domestic_gross  foreign_gross  year  total_gross  \n",
       "0            4.2      18800000.0     42400000.0  2014   61200000.0  \n",
       "1            5.1      21600000.0       887000.0  2013   22487000.0  \n",
       "3            7.6      75600000.0     34600000.0  2011  110200000.0  \n",
       "4            6.5      32700000.0     72500000.0  2010  105200000.0  \n",
       "5            7.4     209400000.0    485300000.0  2011  694700000.0  "
      ]
     },
     "execution_count": 89,
     "metadata": {},
     "output_type": "execute_result"
    }
   ],
   "source": [
    "#To check the summary of the table\n",
    "selected_df.head()"
   ]
  },
  {
   "cell_type": "code",
   "execution_count": 88,
   "metadata": {},
   "outputs": [
    {
     "name": "stderr",
     "output_type": "stream",
     "text": [
      "C:\\Users\\c.chiuri\\AppData\\Local\\Temp\\ipykernel_18692\\77355260.py:1: SettingWithCopyWarning: \n",
      "A value is trying to be set on a copy of a slice from a DataFrame.\n",
      "Try using .loc[row_indexer,col_indexer] = value instead\n",
      "\n",
      "See the caveats in the documentation: https://pandas.pydata.org/pandas-docs/stable/user_guide/indexing.html#returning-a-view-versus-a-copy\n",
      "  selected_df.loc[:,'total_gross'] = selected_df['foreign_gross'] + selected_df['domestic_gross']\n"
     ]
    }
   ],
   "source": [
    "# combining our domestic_gross and foreign_gross columns to have one column for total_column\n",
    "selected_df.loc[:,'total_gross'] = selected_df['foreign_gross'] + selected_df['domestic_gross']"
   ]
  },
  {
   "cell_type": "code",
   "execution_count": 91,
   "metadata": {},
   "outputs": [
    {
     "data": {
      "text/html": [
       "<div>\n",
       "<style scoped>\n",
       "    .dataframe tbody tr th:only-of-type {\n",
       "        vertical-align: middle;\n",
       "    }\n",
       "\n",
       "    .dataframe tbody tr th {\n",
       "        vertical-align: top;\n",
       "    }\n",
       "\n",
       "    .dataframe thead th {\n",
       "        text-align: right;\n",
       "    }\n",
       "</style>\n",
       "<table border=\"1\" class=\"dataframe\">\n",
       "  <thead>\n",
       "    <tr style=\"text-align: right;\">\n",
       "      <th></th>\n",
       "      <th>title</th>\n",
       "      <th>genres</th>\n",
       "      <th>averagerating</th>\n",
       "      <th>total_gross</th>\n",
       "      <th>year</th>\n",
       "    </tr>\n",
       "  </thead>\n",
       "  <tbody>\n",
       "    <tr>\n",
       "      <th>0</th>\n",
       "      <td>The Legend of Hercules</td>\n",
       "      <td>Action,Adventure,Fantasy</td>\n",
       "      <td>4.2</td>\n",
       "      <td>61200000.0</td>\n",
       "      <td>2014</td>\n",
       "    </tr>\n",
       "    <tr>\n",
       "      <th>1</th>\n",
       "      <td>Baggage Claim</td>\n",
       "      <td>Comedy</td>\n",
       "      <td>5.1</td>\n",
       "      <td>22487000.0</td>\n",
       "      <td>2013</td>\n",
       "    </tr>\n",
       "    <tr>\n",
       "      <th>3</th>\n",
       "      <td>Moneyball</td>\n",
       "      <td>Biography,Drama,Sport</td>\n",
       "      <td>7.6</td>\n",
       "      <td>110200000.0</td>\n",
       "      <td>2011</td>\n",
       "    </tr>\n",
       "    <tr>\n",
       "      <th>4</th>\n",
       "      <td>Hereafter</td>\n",
       "      <td>Drama,Fantasy,Romance</td>\n",
       "      <td>6.5</td>\n",
       "      <td>105200000.0</td>\n",
       "      <td>2010</td>\n",
       "    </tr>\n",
       "    <tr>\n",
       "      <th>5</th>\n",
       "      <td>Mission: Impossible - Ghost Protocol</td>\n",
       "      <td>Action,Adventure,Thriller</td>\n",
       "      <td>7.4</td>\n",
       "      <td>694700000.0</td>\n",
       "      <td>2011</td>\n",
       "    </tr>\n",
       "  </tbody>\n",
       "</table>\n",
       "</div>"
      ],
      "text/plain": [
       "                                  title                     genres  \\\n",
       "0                The Legend of Hercules   Action,Adventure,Fantasy   \n",
       "1                         Baggage Claim                     Comedy   \n",
       "3                             Moneyball      Biography,Drama,Sport   \n",
       "4                             Hereafter      Drama,Fantasy,Romance   \n",
       "5  Mission: Impossible - Ghost Protocol  Action,Adventure,Thriller   \n",
       "\n",
       "   averagerating  total_gross  year  \n",
       "0            4.2   61200000.0  2014  \n",
       "1            5.1   22487000.0  2013  \n",
       "3            7.6  110200000.0  2011  \n",
       "4            6.5  105200000.0  2010  \n",
       "5            7.4  694700000.0  2011  "
      ]
     },
     "execution_count": 91,
     "metadata": {},
     "output_type": "execute_result"
    }
   ],
   "source": [
    "# select only the columns that we need for analysis\n",
    "final_df = selected_df[['title', 'genres', 'averagerating', 'total_gross', 'year']]\n",
    "\n",
    "final_df.head()"
   ]
  },
  {
   "cell_type": "code",
   "execution_count": 96,
   "metadata": {},
   "outputs": [
    {
     "data": {
      "image/png": "[encoded data removed]",
      "text/plain": [
       "<Figure size 500x300 with 1 Axes>"
      ]
     },
     "metadata": {},
     "output_type": "display_data"
    }
   ],
   "source": [
    "# inspecting for outliers\n",
    "fig = plt.figure(figsize =(5, 3))\n",
    "# create a boxplot of the 'total_gross' and'averagerating column\n",
    "plt.boxplot([final_df['total_gross'], final_df['averagerating']])\n",
    "\n",
    "# set the title and labels\n",
    "plt.title('Boxplot')\n",
    "plt.xlabel('Total Gross and Average Rating')\n",
    "plt.show()"
   ]
  },
  {
   "cell_type": "markdown",
   "metadata": {},
   "source": [
    "All outliers in the dataframe will be retained ."
   ]
  },
  {
   "cell_type": "code",
   "execution_count": 173,
   "metadata": {},
   "outputs": [
    {
     "data": {
      "image/png": "[encoded data removed]",
      "text/plain": [
       "<Figure size 700x300 with 1 Axes>"
      ]
     },
     "metadata": {},
     "output_type": "display_data"
    }
   ],
   "source": [
    "fig, ax = plt.subplots(figsize =(7, 3))\n",
    "\n",
    "ax.scatter(final_df[\"year\"],final_df[\"total_gross\"])\n",
    "ax.set_title('OUTLIERS IN TOTAL GROSS REVENUE')\n",
    "ax.set_xlabel('Year')\n",
    "ax.set_ylabel('Total Gross Sales')\n",
    "\n",
    "plt.show()"
   ]
  },
  {
   "cell_type": "markdown",
   "metadata": {},
   "source": [
    "### DATA ANALYSIS"
   ]
  },
  {
   "cell_type": "markdown",
   "metadata": {},
   "source": [
    "My aim for this study is to answer these three questions\n",
    "1.Which is the most common genre \n",
    "2.which genre has the highest number of return\n",
    "3.Is the highest paying genre correlated to its rating\n"
   ]
  },
  {
   "cell_type": "code",
   "execution_count": 108,
   "metadata": {
    "scrolled": true
   },
   "outputs": [
    {
     "name": "stdout",
     "output_type": "stream",
     "text": [
      "                          title  count\n",
      "0                         Drama    301\n",
      "1                  Comedy,Drama    132\n",
      "2          Comedy,Drama,Romance    132\n",
      "3                 Drama,Romance    111\n",
      "4                   Documentary    104\n",
      "..                          ...    ...\n",
      "313    Action,Biography,History      1\n",
      "314             Crime,Drama,War      1\n",
      "315  Biography,History,Thriller      1\n",
      "316   Documentary,Drama,Romance      1\n",
      "317    Adventure,Comedy,Western      1\n",
      "\n",
      "[318 rows x 2 columns]\n"
     ]
    }
   ],
   "source": [
    "# Create a new dataframe with the count of movies per genre\n",
    "genres_counts = final_df['genres'].value_counts().reset_index(name='count').rename(columns={'index': 'title'})\n",
    "print(genres_counts)"
   ]
  },
  {
   "cell_type": "code",
   "execution_count": 186,
   "metadata": {},
   "outputs": [
    {
     "name": "stdout",
     "output_type": "stream",
     "text": [
      "                  title  count\n",
      "0                 Drama    301\n",
      "1          Comedy,Drama    132\n",
      "2  Comedy,Drama,Romance    132\n",
      "3         Drama,Romance    111\n",
      "4           Documentary    104\n"
     ]
    }
   ],
   "source": [
    "# Define a list of genres you want to keep\n",
    "genres_to_keep = ['Drama', 'Comedy,Drama','Comedy,Drama,Romance','Drama,Romance','Documentary']\n",
    "\n",
    "# Use boolean indexing to select only the rows with the desired genres\n",
    "genres_filtered = genres_counts[genres_counts['title'].isin(genres_to_keep)]\n",
    "print(genres_filtered)"
   ]
  },
  {
   "cell_type": "code",
   "execution_count": 191,
   "metadata": {},
   "outputs": [
    {
     "data": {
      "image/png": "[encoded data removed]",
      "text/plain": [
       "<Figure size 1000x600 with 1 Axes>"
      ]
     },
     "metadata": {},
     "output_type": "display_data"
    }
   ],
   "source": [
    "# create a bar chart\n",
    "fig, ax = plt.subplots(figsize=(10, 6))\n",
    "genres = genres_filtered['title']\n",
    "counts = genres_filtered['count']\n",
    "y_pos = np.arange(len(genres))\n",
    "\n",
    "ax.bar(y_pos, counts, align='center', alpha=0.5)\n",
    "ax.set_xticks(y_pos)\n",
    "ax.set_xticklabels(genres, rotation='vertical')\n",
    "ax.set_ylabel('Count')\n",
    "ax.set_title('Movie Genre Counts')\n",
    "\n",
    "plt.show()"
   ]
  },
  {
   "cell_type": "markdown",
   "metadata": {},
   "source": [
    "Its evident from the graph above that Drama is the most common Genre,this gives us more insights on which show Microsoft should focus on more."
   ]
  },
  {
   "cell_type": "code",
   "execution_count": 118,
   "metadata": {},
   "outputs": [
    {
     "data": {
      "text/plain": [
       "318"
      ]
     },
     "execution_count": 118,
     "metadata": {},
     "output_type": "execute_result"
    }
   ],
   "source": [
    "#Chceking the number of unique genres in the dataframe\n",
    "len(final_df['genres'].unique())"
   ]
  },
  {
   "cell_type": "code",
   "execution_count": 121,
   "metadata": {},
   "outputs": [
    {
     "data": {
      "text/html": [
       "<div>\n",
       "<style scoped>\n",
       "    .dataframe tbody tr th:only-of-type {\n",
       "        vertical-align: middle;\n",
       "    }\n",
       "\n",
       "    .dataframe tbody tr th {\n",
       "        vertical-align: top;\n",
       "    }\n",
       "\n",
       "    .dataframe thead th {\n",
       "        text-align: right;\n",
       "    }\n",
       "</style>\n",
       "<table border=\"1\" class=\"dataframe\">\n",
       "  <thead>\n",
       "    <tr style=\"text-align: right;\">\n",
       "      <th></th>\n",
       "      <th>title</th>\n",
       "      <th>count</th>\n",
       "    </tr>\n",
       "  </thead>\n",
       "  <tbody>\n",
       "    <tr>\n",
       "      <th>0</th>\n",
       "      <td>Drama</td>\n",
       "      <td>301</td>\n",
       "    </tr>\n",
       "    <tr>\n",
       "      <th>1</th>\n",
       "      <td>Comedy,Drama</td>\n",
       "      <td>132</td>\n",
       "    </tr>\n",
       "    <tr>\n",
       "      <th>2</th>\n",
       "      <td>Comedy,Drama,Romance</td>\n",
       "      <td>132</td>\n",
       "    </tr>\n",
       "    <tr>\n",
       "      <th>3</th>\n",
       "      <td>Drama,Romance</td>\n",
       "      <td>111</td>\n",
       "    </tr>\n",
       "    <tr>\n",
       "      <th>4</th>\n",
       "      <td>Documentary</td>\n",
       "      <td>104</td>\n",
       "    </tr>\n",
       "    <tr>\n",
       "      <th>5</th>\n",
       "      <td>Comedy</td>\n",
       "      <td>92</td>\n",
       "    </tr>\n",
       "    <tr>\n",
       "      <th>6</th>\n",
       "      <td>Adventure,Animation,Comedy</td>\n",
       "      <td>75</td>\n",
       "    </tr>\n",
       "    <tr>\n",
       "      <th>7</th>\n",
       "      <td>Comedy,Romance</td>\n",
       "      <td>71</td>\n",
       "    </tr>\n",
       "    <tr>\n",
       "      <th>8</th>\n",
       "      <td>Drama,Thriller</td>\n",
       "      <td>54</td>\n",
       "    </tr>\n",
       "    <tr>\n",
       "      <th>9</th>\n",
       "      <td>Action,Adventure,Sci-Fi</td>\n",
       "      <td>47</td>\n",
       "    </tr>\n",
       "  </tbody>\n",
       "</table>\n",
       "</div>"
      ],
      "text/plain": [
       "                        title  count\n",
       "0                       Drama    301\n",
       "1                Comedy,Drama    132\n",
       "2        Comedy,Drama,Romance    132\n",
       "3               Drama,Romance    111\n",
       "4                 Documentary    104\n",
       "5                      Comedy     92\n",
       "6  Adventure,Animation,Comedy     75\n",
       "7              Comedy,Romance     71\n",
       "8              Drama,Thriller     54\n",
       "9     Action,Adventure,Sci-Fi     47"
      ]
     },
     "execution_count": 121,
     "metadata": {},
     "output_type": "execute_result"
    }
   ],
   "source": [
    "#Displaying the first 10 \n",
    "genres_counts.head(10)"
   ]
  },
  {
   "cell_type": "code",
   "execution_count": 123,
   "metadata": {},
   "outputs": [
    {
     "data": {
      "text/plain": [
       "pandas.core.frame.DataFrame"
      ]
     },
     "execution_count": 123,
     "metadata": {},
     "output_type": "execute_result"
    }
   ],
   "source": [
    "# tpe of created dataframe where genres are stored\n",
    "type(genres_counts)"
   ]
  },
  {
   "cell_type": "code",
   "execution_count": 124,
   "metadata": {},
   "outputs": [],
   "source": [
    "# Saving the cleaned data into a csv file\n",
    "final_df.to_csv('final_df.csv',index=False)"
   ]
  },
  {
   "cell_type": "code",
   "execution_count": 174,
   "metadata": {},
   "outputs": [],
   "source": [
    "# Veryfing storage of data by reading the file\n",
    "final_df = pd.read_csv('final_df.csv')"
   ]
  },
  {
   "cell_type": "code",
   "execution_count": 175,
   "metadata": {},
   "outputs": [
    {
     "name": "stdout",
     "output_type": "stream",
     "text": [
      "<class 'pandas.core.frame.DataFrame'>\n",
      "RangeIndex: 2953 entries, 0 to 2952\n",
      "Data columns (total 5 columns):\n",
      " #   Column         Non-Null Count  Dtype  \n",
      "---  ------         --------------  -----  \n",
      " 0   title          2953 non-null   object \n",
      " 1   genres         2953 non-null   object \n",
      " 2   averagerating  2953 non-null   float64\n",
      " 3   total_gross    2953 non-null   float64\n",
      " 4   year           2953 non-null   int64  \n",
      "dtypes: float64(2), int64(1), object(2)\n",
      "memory usage: 115.5+ KB\n"
     ]
    }
   ],
   "source": [
    "final_df.info()"
   ]
  },
  {
   "cell_type": "markdown",
   "metadata": {},
   "source": [
    "## DATA EXPLORATION"
   ]
  },
  {
   "cell_type": "code",
   "execution_count": null,
   "metadata": {},
   "outputs": [],
   "source": [
    "-What are the top popular genres by rating ?\n",
    "\n",
    "-Does the number of revenue and ratings correlate ?\n",
    "\n",
    "-What are the correlations of the ratings and other attributes ?"
   ]
  },
  {
   "cell_type": "code",
   "execution_count": 227,
   "metadata": {},
   "outputs": [],
   "source": [
    "#Arranging my data in descending order from the highest rating to the lowest rating\n",
    "by_rating = final_df.sort_values(by='averagerating',ascending = False)"
   ]
  },
  {
   "cell_type": "code",
   "execution_count": 230,
   "metadata": {},
   "outputs": [
    {
     "data": {
      "text/html": [
       "<div>\n",
       "<style scoped>\n",
       "    .dataframe tbody tr th:only-of-type {\n",
       "        vertical-align: middle;\n",
       "    }\n",
       "\n",
       "    .dataframe tbody tr th {\n",
       "        vertical-align: top;\n",
       "    }\n",
       "\n",
       "    .dataframe thead th {\n",
       "        text-align: right;\n",
       "    }\n",
       "</style>\n",
       "<table border=\"1\" class=\"dataframe\">\n",
       "  <thead>\n",
       "    <tr style=\"text-align: right;\">\n",
       "      <th></th>\n",
       "      <th>genres</th>\n",
       "      <th>averagerating</th>\n",
       "      <th>title</th>\n",
       "    </tr>\n",
       "  </thead>\n",
       "  <tbody>\n",
       "    <tr>\n",
       "      <th>1003</th>\n",
       "      <td>Documentary</td>\n",
       "      <td>9.2</td>\n",
       "      <td>The Wall</td>\n",
       "    </tr>\n",
       "    <tr>\n",
       "      <th>187</th>\n",
       "      <td>Adventure</td>\n",
       "      <td>9.2</td>\n",
       "      <td>The Runaways</td>\n",
       "    </tr>\n",
       "    <tr>\n",
       "      <th>1319</th>\n",
       "      <td>Drama</td>\n",
       "      <td>9.1</td>\n",
       "      <td>Tomorrow</td>\n",
       "    </tr>\n",
       "    <tr>\n",
       "      <th>119</th>\n",
       "      <td>Documentary</td>\n",
       "      <td>9.0</td>\n",
       "      <td>The Way</td>\n",
       "    </tr>\n",
       "    <tr>\n",
       "      <th>1273</th>\n",
       "      <td>Comedy,Documentary,Drama</td>\n",
       "      <td>8.9</td>\n",
       "      <td>The Mayor</td>\n",
       "    </tr>\n",
       "  </tbody>\n",
       "</table>\n",
       "</div>"
      ],
      "text/plain": [
       "                        genres  averagerating         title\n",
       "1003               Documentary            9.2      The Wall\n",
       "187                  Adventure            9.2  The Runaways\n",
       "1319                     Drama            9.1      Tomorrow\n",
       "119                Documentary            9.0       The Way\n",
       "1273  Comedy,Documentary,Drama            8.9     The Mayor"
      ]
     },
     "execution_count": 230,
     "metadata": {},
     "output_type": "execute_result"
    }
   ],
   "source": [
    "#Creating a variable that contains column genres,averageratings and titles as sorted\n",
    "genres_orderby_rating = by_rating.loc[:,['genres','averagerating','title']]\n",
    "genres_orderby_rating.head()"
   ]
  },
  {
   "cell_type": "code",
   "execution_count": 153,
   "metadata": {},
   "outputs": [
    {
     "data": {
      "image/png": "[encoded data removed]",
      "text/plain": [
       "<Figure size 650x500 with 1 Axes>"
      ]
     },
     "metadata": {},
     "output_type": "display_data"
    }
   ],
   "source": [
    "# Plot scatterplot of retweet vs favorite count\n",
    "sb.lmplot(x=\"total_gross\", \n",
    "           y=\"averagerating\", \n",
    "           data= final_df,\n",
    "           height = 5,\n",
    "           aspect=1.3,\n",
    "           scatter_kws={'alpha':1/5})\n",
    "plt.title('Ratings vs revenue')\n",
    "plt.xlabel('total_gross')\n",
    "plt.ylabel('Rating');"
   ]
  },
  {
   "cell_type": "code",
   "execution_count": 154,
   "metadata": {},
   "outputs": [
    {
     "name": "stdout",
     "output_type": "stream",
     "text": [
      "               averagerating  total_gross\n",
      "averagerating          1.000        0.123\n",
      "total_gross            0.123        1.000\n"
     ]
    }
   ],
   "source": [
    "# correlation \n",
    "cor1 =final_df[[\"averagerating\",\"total_gross\"]].corr(method ='pearson')\n",
    "print (cor1)"
   ]
  },
  {
   "cell_type": "markdown",
   "metadata": {},
   "source": [
    "The is a positive correlation between domestic_gross and the rating of a movie though its weak 0.12(rounded) meaning the investemnt put in the production of a movie has a proportion to the ratings"
   ]
  },
  {
   "cell_type": "markdown",
   "metadata": {},
   "source": [
    "CORRELATIONS"
   ]
  },
  {
   "cell_type": "code",
   "execution_count": 164,
   "metadata": {},
   "outputs": [
    {
     "data": {
      "text/html": [
       "<div>\n",
       "<style scoped>\n",
       "    .dataframe tbody tr th:only-of-type {\n",
       "        vertical-align: middle;\n",
       "    }\n",
       "\n",
       "    .dataframe tbody tr th {\n",
       "        vertical-align: top;\n",
       "    }\n",
       "\n",
       "    .dataframe thead th {\n",
       "        text-align: right;\n",
       "    }\n",
       "</style>\n",
       "<table border=\"1\" class=\"dataframe\">\n",
       "  <thead>\n",
       "    <tr style=\"text-align: right;\">\n",
       "      <th></th>\n",
       "      <th>averagerating</th>\n",
       "    </tr>\n",
       "  </thead>\n",
       "  <tbody>\n",
       "    <tr>\n",
       "      <th>averagerating</th>\n",
       "      <td>1.000000</td>\n",
       "    </tr>\n",
       "    <tr>\n",
       "      <th>total_gross</th>\n",
       "      <td>0.123000</td>\n",
       "    </tr>\n",
       "    <tr>\n",
       "      <th>year</th>\n",
       "      <td>0.034451</td>\n",
       "    </tr>\n",
       "  </tbody>\n",
       "</table>\n",
       "</div>"
      ],
      "text/plain": [
       "               averagerating\n",
       "averagerating       1.000000\n",
       "total_gross         0.123000\n",
       "year                0.034451"
      ]
     },
     "execution_count": 164,
     "metadata": {},
     "output_type": "execute_result"
    }
   ],
   "source": [
    "#Checking the correlation of genre and domestic gross which could affect the type of genre to be produced\n",
    "final_df[final_df.columns[1:]].corr()['averagerating'][:].sort_values(ascending=False).to_frame()\n",
    "\n",
    "#df[df.columns[1:]].corr()['median_house_value'][:].sort_values(ascending=False).to_frame()"
   ]
  },
  {
   "cell_type": "code",
   "execution_count": 167,
   "metadata": {},
   "outputs": [
    {
     "data": {
      "image/png": "[encoded data removed]",
      "text/plain": [
       "<Figure size 1000x700 with 2 Axes>"
      ]
     },
     "metadata": {},
     "output_type": "display_data"
    }
   ],
   "source": [
    "# Creating a correlation heatmap \n",
    "plt.figure(figsize=(10,7))\n",
    "sb.set_theme(style=\"dark\")\n",
    "corr = final_df.corr()\n",
    "heatmap = sb.heatmap(corr, annot=False, fmt='.1g')"
   ]
  },
  {
   "cell_type": "markdown",
   "metadata": {},
   "source": [
    "The light shades show high correlation betwen the elements while dark shades show low correlation between the elements.Eg the averagerating has a weak positive correlation with total_gross meaning that a high rating indicates a descent gross return."
   ]
  },
  {
   "cell_type": "markdown",
   "metadata": {},
   "source": [
    "Conclusions\n",
    "\n",
    "We have drawn many interesting inferences from the dataset,here's a summary of the few of them:\n",
    "\n",
    "The most genre type is drama with the least as war,\n",
    "\n",
    "The amount of total Gross does affect the rating of the movie,\n",
    "\n",
    "Some Genre Combinations are more relatable to each other unlike others."
   ]
  },
  {
   "cell_type": "markdown",
   "metadata": {},
   "source": [
    "Recommendations\n",
    "\n",
    "The studios that should be invested in should be either The mayor,Tomorrow or The way\n",
    "\n",
    "The company should consider starting with the production of drama genre movies."
   ]
  }
 ],
 "metadata": {
  "kernelspec": {
   "display_name": "Python 3 (ipykernel)",
   "language": "python",
   "name": "python3"
  },
  "language_info": {
   "codemirror_mode": {
    "name": "ipython",
    "version": 3
   },
   "file_extension": ".py",
   "mimetype": "text/x-python",
   "name": "python",
   "nbconvert_exporter": "python",
   "pygments_lexer": "ipython3",
   "version": "3.9.13"
  }
 },
 "nbformat": 4,
 "nbformat_minor": 2
}
